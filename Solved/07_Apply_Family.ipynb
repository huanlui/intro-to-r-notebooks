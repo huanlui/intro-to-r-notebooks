{
 "cells": [
  {
   "cell_type": "markdown",
   "metadata": {},
   "source": [
    "# Familia Apply![](https://www.r-project.org/Rlogo.png)\n",
    "\n"
   ]
  },
  {
   "attachments": {},
   "cell_type": "markdown",
   "metadata": {},
   "source": [
    "Familia de funciones que realizan una determinada operación a todos los elementos de un  vector o una lista. La manera en que se ejecuta dicha operación varía dependiendo de la  función que utilicemos:\n",
    "+ `apply`\n",
    "+ `lapply`\n",
    "+ `sapply`\n",
    "+ `vapply`"
   ]
  },
  {
   "attachments": {},
   "cell_type": "markdown",
   "metadata": {},
   "source": [
    "## `apply(X, MARGIN, FUN, …)`"
   ]
  },
  {
   "attachments": {},
   "cell_type": "markdown",
   "metadata": {},
   "source": [
    "La función `apply` toma la lista o vector X y aplica a todos sus elementos la función FUN por sus márgenes (MARGIN).\n",
    "\n",
    "¿Qué quiere decir que aplica la función a los márgenes?\n",
    "+ Por filas (1)\n",
    "+ Por columnas (2)\n",
    "+ Por filas y columnas (1:2)"
   ]
  },
  {
   "cell_type": "code",
   "execution_count": 6,
   "metadata": {},
   "outputs": [
    {
     "data": {
      "text/html": [
       "<table>\n",
       "<tbody>\n",
       "\t<tr><td> 1</td><td>11</td></tr>\n",
       "\t<tr><td> 2</td><td>12</td></tr>\n",
       "\t<tr><td> 3</td><td>13</td></tr>\n",
       "\t<tr><td> 4</td><td>14</td></tr>\n",
       "\t<tr><td> 5</td><td>15</td></tr>\n",
       "\t<tr><td> 6</td><td>16</td></tr>\n",
       "\t<tr><td> 7</td><td>17</td></tr>\n",
       "\t<tr><td> 8</td><td>18</td></tr>\n",
       "\t<tr><td> 9</td><td>19</td></tr>\n",
       "\t<tr><td>10</td><td>20</td></tr>\n",
       "</tbody>\n",
       "</table>\n"
      ],
      "text/latex": [
       "\\begin{tabular}{ll}\n",
       "\t  1 & 11\\\\\n",
       "\t  2 & 12\\\\\n",
       "\t  3 & 13\\\\\n",
       "\t  4 & 14\\\\\n",
       "\t  5 & 15\\\\\n",
       "\t  6 & 16\\\\\n",
       "\t  7 & 17\\\\\n",
       "\t  8 & 18\\\\\n",
       "\t  9 & 19\\\\\n",
       "\t 10 & 20\\\\\n",
       "\\end{tabular}\n"
      ],
      "text/markdown": [
       "\n",
       "|  1 | 11 | \n",
       "|  2 | 12 | \n",
       "|  3 | 13 | \n",
       "|  4 | 14 | \n",
       "|  5 | 15 | \n",
       "|  6 | 16 | \n",
       "|  7 | 17 | \n",
       "|  8 | 18 | \n",
       "|  9 | 19 | \n",
       "| 10 | 20 | \n",
       "\n",
       "\n"
      ],
      "text/plain": [
       "      [,1] [,2]\n",
       " [1,]  1   11  \n",
       " [2,]  2   12  \n",
       " [3,]  3   13  \n",
       " [4,]  4   14  \n",
       " [5,]  5   15  \n",
       " [6,]  6   16  \n",
       " [7,]  7   17  \n",
       " [8,]  8   18  \n",
       " [9,]  9   19  \n",
       "[10,] 10   20  "
      ]
     },
     "metadata": {},
     "output_type": "display_data"
    }
   ],
   "source": [
    "###################################\n",
    "# apply                           #\n",
    "###################################\n",
    "\n",
    "m <- matrix(c(1:10, 11:20), nrow = 10, ncol = 2)\n",
    "m"
   ]
  },
  {
   "cell_type": "code",
   "execution_count": 5,
   "metadata": {},
   "outputs": [
    {
     "data": {
      "text/html": [
       "<ol class=list-inline>\n",
       "\t<li>6</li>\n",
       "\t<li>7</li>\n",
       "\t<li>8</li>\n",
       "\t<li>9</li>\n",
       "\t<li>10</li>\n",
       "\t<li>11</li>\n",
       "\t<li>12</li>\n",
       "\t<li>13</li>\n",
       "\t<li>14</li>\n",
       "\t<li>15</li>\n",
       "</ol>\n"
      ],
      "text/latex": [
       "\\begin{enumerate*}\n",
       "\\item 6\n",
       "\\item 7\n",
       "\\item 8\n",
       "\\item 9\n",
       "\\item 10\n",
       "\\item 11\n",
       "\\item 12\n",
       "\\item 13\n",
       "\\item 14\n",
       "\\item 15\n",
       "\\end{enumerate*}\n"
      ],
      "text/markdown": [
       "1. 6\n",
       "2. 7\n",
       "3. 8\n",
       "4. 9\n",
       "5. 10\n",
       "6. 11\n",
       "7. 12\n",
       "8. 13\n",
       "9. 14\n",
       "10. 15\n",
       "\n",
       "\n"
      ],
      "text/plain": [
       " [1]  6  7  8  9 10 11 12 13 14 15"
      ]
     },
     "metadata": {},
     "output_type": "display_data"
    }
   ],
   "source": [
    "apply(m, 1, mean) # Por filas"
   ]
  },
  {
   "cell_type": "code",
   "execution_count": 3,
   "metadata": {},
   "outputs": [
    {
     "data": {
      "text/html": [
       "<ol class=list-inline>\n",
       "\t<li>5.5</li>\n",
       "\t<li>15.5</li>\n",
       "</ol>\n"
      ],
      "text/latex": [
       "\\begin{enumerate*}\n",
       "\\item 5.5\n",
       "\\item 15.5\n",
       "\\end{enumerate*}\n"
      ],
      "text/markdown": [
       "1. 5.5\n",
       "2. 15.5\n",
       "\n",
       "\n"
      ],
      "text/plain": [
       "[1]  5.5 15.5"
      ]
     },
     "metadata": {},
     "output_type": "display_data"
    }
   ],
   "source": [
    "apply(m, 2, mean) # Por columnas"
   ]
  },
  {
   "cell_type": "code",
   "execution_count": 13,
   "metadata": {},
   "outputs": [
    {
     "data": {
      "text/html": [
       "<table>\n",
       "<tbody>\n",
       "\t<tr><td>0.5 </td><td> 5.5</td></tr>\n",
       "\t<tr><td>1.0 </td><td> 6.0</td></tr>\n",
       "\t<tr><td>1.5 </td><td> 6.5</td></tr>\n",
       "\t<tr><td>2.0 </td><td> 7.0</td></tr>\n",
       "\t<tr><td>2.5 </td><td> 7.5</td></tr>\n",
       "\t<tr><td>3.0 </td><td> 8.0</td></tr>\n",
       "\t<tr><td>3.5 </td><td> 8.5</td></tr>\n",
       "\t<tr><td>4.0 </td><td> 9.0</td></tr>\n",
       "\t<tr><td>4.5 </td><td> 9.5</td></tr>\n",
       "\t<tr><td>5.0 </td><td>10.0</td></tr>\n",
       "</tbody>\n",
       "</table>\n"
      ],
      "text/latex": [
       "\\begin{tabular}{ll}\n",
       "\t 0.5  &  5.5\\\\\n",
       "\t 1.0  &  6.0\\\\\n",
       "\t 1.5  &  6.5\\\\\n",
       "\t 2.0  &  7.0\\\\\n",
       "\t 2.5  &  7.5\\\\\n",
       "\t 3.0  &  8.0\\\\\n",
       "\t 3.5  &  8.5\\\\\n",
       "\t 4.0  &  9.0\\\\\n",
       "\t 4.5  &  9.5\\\\\n",
       "\t 5.0  & 10.0\\\\\n",
       "\\end{tabular}\n"
      ],
      "text/markdown": [
       "\n",
       "| 0.5  |  5.5 | \n",
       "| 1.0  |  6.0 | \n",
       "| 1.5  |  6.5 | \n",
       "| 2.0  |  7.0 | \n",
       "| 2.5  |  7.5 | \n",
       "| 3.0  |  8.0 | \n",
       "| 3.5  |  8.5 | \n",
       "| 4.0  |  9.0 | \n",
       "| 4.5  |  9.5 | \n",
       "| 5.0  | 10.0 | \n",
       "\n",
       "\n"
      ],
      "text/plain": [
       "      [,1] [,2]\n",
       " [1,] 0.5   5.5\n",
       " [2,] 1.0   6.0\n",
       " [3,] 1.5   6.5\n",
       " [4,] 2.0   7.0\n",
       " [5,] 2.5   7.5\n",
       " [6,] 3.0   8.0\n",
       " [7,] 3.5   8.5\n",
       " [8,] 4.0   9.0\n",
       " [9,] 4.5   9.5\n",
       "[10,] 5.0  10.0"
      ]
     },
     "metadata": {},
     "output_type": "display_data"
    }
   ],
   "source": [
    "apply(m, 1:2, function(x) x/2) # Por filas y por columnas m / 2"
   ]
  },
  {
   "attachments": {},
   "cell_type": "markdown",
   "metadata": {},
   "source": [
    "## `lapply(X, FUN, …)`"
   ]
  },
  {
   "attachments": {},
   "cell_type": "markdown",
   "metadata": {},
   "source": [
    "La función `lapply` toma la lista o vector X y aplica a todos sus elementos la función FUN.\n",
    "\n",
    "Es posible pasar argumentos (…) a la función FUN en la llamada a `lapply`.\n",
    "\n",
    "El retorno de la función es una **lista** con el resultado de la ejecución de la función a cada  elemento.\n",
    "\n",
    "Ya que el resultado es una lista puede devolver objetos de diferente clase.\n",
    "\n",
    "Si queremos convertir la lista de retorno en vector podemos utilizar `unlist(l)`."
   ]
  },
  {
   "cell_type": "code",
   "execution_count": 14,
   "metadata": {},
   "outputs": [],
   "source": [
    "###################################\n",
    "# lapply                          #\n",
    "###################################\n",
    "\n",
    "# lapply\n",
    "nyc <- list(pop = 8405837,\n",
    "            boroughs = c(\"Manhattan\", \"Bronx\", \"Brooklyn\",\n",
    "                         \"Queens\", \"Staten Island\"),\n",
    "            capital = FALSE)"
   ]
  },
  {
   "cell_type": "code",
   "execution_count": 15,
   "metadata": {},
   "outputs": [
    {
     "name": "stdout",
     "output_type": "stream",
     "text": [
      "[1] \"numeric\"\n",
      "[1] \"character\"\n",
      "[1] \"logical\"\n"
     ]
    }
   ],
   "source": [
    "# Usando bucle\n",
    "for (info in nyc) {\n",
    "  print(class(info))\n",
    "}"
   ]
  },
  {
   "cell_type": "code",
   "execution_count": 16,
   "metadata": {},
   "outputs": [
    {
     "data": {
      "text/html": [
       "<dl>\n",
       "\t<dt>$pop</dt>\n",
       "\t\t<dd>'numeric'</dd>\n",
       "\t<dt>$boroughs</dt>\n",
       "\t\t<dd>'character'</dd>\n",
       "\t<dt>$capital</dt>\n",
       "\t\t<dd>'logical'</dd>\n",
       "</dl>\n"
      ],
      "text/latex": [
       "\\begin{description}\n",
       "\\item[\\$pop] 'numeric'\n",
       "\\item[\\$boroughs] 'character'\n",
       "\\item[\\$capital] 'logical'\n",
       "\\end{description}\n"
      ],
      "text/markdown": [
       "$pop\n",
       ":   'numeric'\n",
       "$boroughs\n",
       ":   'character'\n",
       "$capital\n",
       ":   'logical'\n",
       "\n",
       "\n"
      ],
      "text/plain": [
       "$pop\n",
       "[1] \"numeric\"\n",
       "\n",
       "$boroughs\n",
       "[1] \"character\"\n",
       "\n",
       "$capital\n",
       "[1] \"logical\"\n"
      ]
     },
     "metadata": {},
     "output_type": "display_data"
    }
   ],
   "source": [
    "# Usando lapply\n",
    "lapply(nyc, class)"
   ]
  },
  {
   "cell_type": "code",
   "execution_count": 18,
   "metadata": {},
   "outputs": [],
   "source": [
    "cities <- c(\"New York\", \"Paris\", \"London\", \"Tokyo\", \n",
    "            \"Rio de Janeiro\", \"Cape Town\")"
   ]
  },
  {
   "cell_type": "code",
   "execution_count": 17,
   "metadata": {},
   "outputs": [],
   "source": [
    "num_chars <- c()\n",
    "for (i in 1:length(cities)) {\n",
    "  num_chars[i] <- nchar(cities[i])\n",
    "}"
   ]
  },
  {
   "cell_type": "code",
   "execution_count": 19,
   "metadata": {},
   "outputs": [
    {
     "data": {
      "text/html": [
       "<ol class=list-inline>\n",
       "\t<li>8</li>\n",
       "\t<li>5</li>\n",
       "\t<li>6</li>\n",
       "\t<li>5</li>\n",
       "\t<li>14</li>\n",
       "\t<li>9</li>\n",
       "</ol>\n"
      ],
      "text/latex": [
       "\\begin{enumerate*}\n",
       "\\item 8\n",
       "\\item 5\n",
       "\\item 6\n",
       "\\item 5\n",
       "\\item 14\n",
       "\\item 9\n",
       "\\end{enumerate*}\n"
      ],
      "text/markdown": [
       "1. 8\n",
       "2. 5\n",
       "3. 6\n",
       "4. 5\n",
       "5. 14\n",
       "6. 9\n",
       "\n",
       "\n"
      ],
      "text/plain": [
       "[1]  8  5  6  5 14  9"
      ]
     },
     "metadata": {},
     "output_type": "display_data"
    }
   ],
   "source": [
    "num_chars"
   ]
  },
  {
   "cell_type": "code",
   "execution_count": 20,
   "metadata": {},
   "outputs": [
    {
     "data": {
      "text/html": [
       "<ol>\n",
       "\t<li>8</li>\n",
       "\t<li>5</li>\n",
       "\t<li>6</li>\n",
       "\t<li>5</li>\n",
       "\t<li>14</li>\n",
       "\t<li>9</li>\n",
       "</ol>\n"
      ],
      "text/latex": [
       "\\begin{enumerate}\n",
       "\\item 8\n",
       "\\item 5\n",
       "\\item 6\n",
       "\\item 5\n",
       "\\item 14\n",
       "\\item 9\n",
       "\\end{enumerate}\n"
      ],
      "text/markdown": [
       "1. 8\n",
       "2. 5\n",
       "3. 6\n",
       "4. 5\n",
       "5. 14\n",
       "6. 9\n",
       "\n",
       "\n"
      ],
      "text/plain": [
       "[[1]]\n",
       "[1] 8\n",
       "\n",
       "[[2]]\n",
       "[1] 5\n",
       "\n",
       "[[3]]\n",
       "[1] 6\n",
       "\n",
       "[[4]]\n",
       "[1] 5\n",
       "\n",
       "[[5]]\n",
       "[1] 14\n",
       "\n",
       "[[6]]\n",
       "[1] 9\n"
      ]
     },
     "metadata": {},
     "output_type": "display_data"
    }
   ],
   "source": [
    "lapply(cities, nchar) #Ojo, siempre devuelve una lista"
   ]
  },
  {
   "cell_type": "code",
   "execution_count": 21,
   "metadata": {},
   "outputs": [
    {
     "data": {
      "text/html": [
       "<ol class=list-inline>\n",
       "\t<li>8</li>\n",
       "\t<li>5</li>\n",
       "\t<li>6</li>\n",
       "\t<li>5</li>\n",
       "\t<li>14</li>\n",
       "\t<li>9</li>\n",
       "</ol>\n"
      ],
      "text/latex": [
       "\\begin{enumerate*}\n",
       "\\item 8\n",
       "\\item 5\n",
       "\\item 6\n",
       "\\item 5\n",
       "\\item 14\n",
       "\\item 9\n",
       "\\end{enumerate*}\n"
      ],
      "text/markdown": [
       "1. 8\n",
       "2. 5\n",
       "3. 6\n",
       "4. 5\n",
       "5. 14\n",
       "6. 9\n",
       "\n",
       "\n"
      ],
      "text/plain": [
       "[1]  8  5  6  5 14  9"
      ]
     },
     "metadata": {},
     "output_type": "display_data"
    }
   ],
   "source": [
    "unlist(lapply(cities, nchar)) #Con unlist, pasamos a vector"
   ]
  },
  {
   "cell_type": "code",
   "execution_count": 22,
   "metadata": {},
   "outputs": [
    {
     "data": {
      "text/html": [
       "<ol class=list-inline>\n",
       "\t<li>7.11</li>\n",
       "\t<li>7.47</li>\n",
       "\t<li>6.54</li>\n",
       "\t<li>6.66</li>\n",
       "\t<li>7.41</li>\n",
       "\t<li>6.96</li>\n",
       "</ol>\n"
      ],
      "text/latex": [
       "\\begin{enumerate*}\n",
       "\\item 7.11\n",
       "\\item 7.47\n",
       "\\item 6.54\n",
       "\\item 6.66\n",
       "\\item 7.41\n",
       "\\item 6.96\n",
       "\\end{enumerate*}\n"
      ],
      "text/markdown": [
       "1. 7.11\n",
       "2. 7.47\n",
       "3. 6.54\n",
       "4. 6.66\n",
       "5. 7.41\n",
       "6. 6.96\n",
       "\n",
       "\n"
      ],
      "text/plain": [
       "[1] 7.11 7.47 6.54 6.66 7.41 6.96"
      ]
     },
     "metadata": {},
     "output_type": "display_data"
    }
   ],
   "source": [
    "# Con funciones propias\n",
    "oil_prices <- list(2.37, 2.49, 2.18, 2.22, 2.47, 2.32)\n",
    "triple <- function(x) {\n",
    "  x * 3\n",
    "}\n",
    "unlist(lapply(oil_prices, triple))"
   ]
  },
  {
   "cell_type": "code",
   "execution_count": 23,
   "metadata": {},
   "outputs": [
    {
     "data": {
      "text/html": [
       "<ol class=list-inline>\n",
       "\t<li>7.11</li>\n",
       "\t<li>7.47</li>\n",
       "\t<li>6.54</li>\n",
       "\t<li>6.66</li>\n",
       "\t<li>7.41</li>\n",
       "\t<li>6.96</li>\n",
       "</ol>\n"
      ],
      "text/latex": [
       "\\begin{enumerate*}\n",
       "\\item 7.11\n",
       "\\item 7.47\n",
       "\\item 6.54\n",
       "\\item 6.66\n",
       "\\item 7.41\n",
       "\\item 6.96\n",
       "\\end{enumerate*}\n"
      ],
      "text/markdown": [
       "1. 7.11\n",
       "2. 7.47\n",
       "3. 6.54\n",
       "4. 6.66\n",
       "5. 7.41\n",
       "6. 6.96\n",
       "\n",
       "\n"
      ],
      "text/plain": [
       "[1] 7.11 7.47 6.54 6.66 7.41 6.96"
      ]
     },
     "metadata": {},
     "output_type": "display_data"
    }
   ],
   "source": [
    "# Con funciones propias pasando argumentos\n",
    "oil_prices <- list(2.37, 2.49, 2.18, 2.22, 2.47, 2.32)\n",
    "multiply <- function(x, factor) {\n",
    "  x * factor\n",
    "}\n",
    "unlist(lapply(oil_prices, multiply, factor = 3))"
   ]
  },
  {
   "attachments": {},
   "cell_type": "markdown",
   "metadata": {},
   "source": [
    "## `sapply(X, FUN, …)`"
   ]
  },
  {
   "attachments": {},
   "cell_type": "markdown",
   "metadata": {},
   "source": [
    "El funcionamiento de `sapply` es análogo a `lapply`.\n",
    "\n",
    "En este caso el retorno es un **vector o matriz**, si fuera posible. Evitándonos utilizar `unlist(l)`."
   ]
  },
  {
   "cell_type": "code",
   "execution_count": 25,
   "metadata": {},
   "outputs": [
    {
     "data": {
      "text/html": [
       "<dl class=dl-horizontal>\n",
       "\t<dt>New York</dt>\n",
       "\t\t<dd>8</dd>\n",
       "\t<dt>Paris</dt>\n",
       "\t\t<dd>5</dd>\n",
       "\t<dt>London</dt>\n",
       "\t\t<dd>6</dd>\n",
       "\t<dt>Tokyo</dt>\n",
       "\t\t<dd>5</dd>\n",
       "\t<dt>Rio de Janeiro</dt>\n",
       "\t\t<dd>14</dd>\n",
       "\t<dt>Cape Town</dt>\n",
       "\t\t<dd>9</dd>\n",
       "</dl>\n"
      ],
      "text/latex": [
       "\\begin{description*}\n",
       "\\item[New York] 8\n",
       "\\item[Paris] 5\n",
       "\\item[London] 6\n",
       "\\item[Tokyo] 5\n",
       "\\item[Rio de Janeiro] 14\n",
       "\\item[Cape Town] 9\n",
       "\\end{description*}\n"
      ],
      "text/markdown": [
       "New York\n",
       ":   8Paris\n",
       ":   5London\n",
       ":   6Tokyo\n",
       ":   5Rio de Janeiro\n",
       ":   14Cape Town\n",
       ":   9\n",
       "\n"
      ],
      "text/plain": [
       "      New York          Paris         London          Tokyo Rio de Janeiro \n",
       "             8              5              6              5             14 \n",
       "     Cape Town \n",
       "             9 "
      ]
     },
     "metadata": {},
     "output_type": "display_data"
    }
   ],
   "source": [
    "###################################\n",
    "# sapply                          #\n",
    "###################################\n",
    "\n",
    "# sapply\n",
    "cities <- c(\"New York\", \"Paris\", \"London\", \"Tokyo\", \n",
    "            \"Rio de Janeiro\", \"Cape Town\")\n",
    "\n",
    "sapply(cities, nchar) # Obtenemos un vector"
   ]
  },
  {
   "cell_type": "code",
   "execution_count": 26,
   "metadata": {},
   "outputs": [
    {
     "data": {
      "text/html": [
       "<ol class=list-inline>\n",
       "\t<li>8</li>\n",
       "\t<li>5</li>\n",
       "\t<li>6</li>\n",
       "\t<li>5</li>\n",
       "\t<li>14</li>\n",
       "\t<li>9</li>\n",
       "</ol>\n"
      ],
      "text/latex": [
       "\\begin{enumerate*}\n",
       "\\item 8\n",
       "\\item 5\n",
       "\\item 6\n",
       "\\item 5\n",
       "\\item 14\n",
       "\\item 9\n",
       "\\end{enumerate*}\n"
      ],
      "text/markdown": [
       "1. 8\n",
       "2. 5\n",
       "3. 6\n",
       "4. 5\n",
       "5. 14\n",
       "6. 9\n",
       "\n",
       "\n"
      ],
      "text/plain": [
       "[1]  8  5  6  5 14  9"
      ]
     },
     "metadata": {},
     "output_type": "display_data"
    }
   ],
   "source": [
    "sapply(cities, nchar, USE.NAMES = FALSE)"
   ]
  },
  {
   "cell_type": "code",
   "execution_count": 27,
   "metadata": {},
   "outputs": [],
   "source": [
    "first_and_last <- function(name) {\n",
    "  name <- gsub(\" \", \"\", name)\n",
    "  letters <- strsplit(name, split = \"\")[[1]]\n",
    "  c(first = min(letters), last = max(letters))\n",
    "}"
   ]
  },
  {
   "cell_type": "code",
   "execution_count": 28,
   "metadata": {},
   "outputs": [
    {
     "data": {
      "text/html": [
       "<table>\n",
       "<thead><tr><th></th><th scope=col>New York</th><th scope=col>Paris</th><th scope=col>London</th><th scope=col>Tokyo</th><th scope=col>Rio de Janeiro</th><th scope=col>Cape Town</th></tr></thead>\n",
       "<tbody>\n",
       "\t<tr><th scope=row>first</th><td>e</td><td>a</td><td>d</td><td>k</td><td>a</td><td>a</td></tr>\n",
       "\t<tr><th scope=row>last</th><td>Y</td><td>s</td><td>o</td><td>y</td><td>R</td><td>w</td></tr>\n",
       "</tbody>\n",
       "</table>\n"
      ],
      "text/latex": [
       "\\begin{tabular}{r|llllll}\n",
       "  & New York & Paris & London & Tokyo & Rio de Janeiro & Cape Town\\\\\n",
       "\\hline\n",
       "\tfirst & e & a & d & k & a & a\\\\\n",
       "\tlast & Y & s & o & y & R & w\\\\\n",
       "\\end{tabular}\n"
      ],
      "text/markdown": [
       "\n",
       "| <!--/--> | New York | Paris | London | Tokyo | Rio de Janeiro | Cape Town | \n",
       "|---|---|\n",
       "| first | e | a | d | k | a | a | \n",
       "| last | Y | s | o | y | R | w | \n",
       "\n",
       "\n"
      ],
      "text/plain": [
       "      New York Paris London Tokyo Rio de Janeiro Cape Town\n",
       "first e        a     d      k     a              a        \n",
       "last  Y        s     o      y     R              w        "
      ]
     },
     "metadata": {},
     "output_type": "display_data"
    }
   ],
   "source": [
    "sapply(cities, first_and_last) # Obtenemos una matriz"
   ]
  },
  {
   "cell_type": "markdown",
   "metadata": {},
   "source": [
    "**Trap**: el retorno de sapply puede ser inesperado, dependiendo de si se puede simplificar el resultado o no."
   ]
  },
  {
   "cell_type": "code",
   "execution_count": 29,
   "metadata": {},
   "outputs": [],
   "source": [
    "# ¿Qué sucede si no puede simplificar?\n",
    "unique_letters <- function(name) {\n",
    "  name <- gsub(\" \", \"\", name)\n",
    "  letters <- strsplit(name, split = \"\")[[1]]\n",
    "  unique(letters)\n",
    "}"
   ]
  },
  {
   "cell_type": "code",
   "execution_count": 31,
   "metadata": {},
   "outputs": [
    {
     "data": {
      "text/html": [
       "<ol>\n",
       "\t<li><ol class=list-inline>\n",
       "\t<li>'N'</li>\n",
       "\t<li>'e'</li>\n",
       "\t<li>'w'</li>\n",
       "\t<li>'Y'</li>\n",
       "\t<li>'o'</li>\n",
       "\t<li>'r'</li>\n",
       "\t<li>'k'</li>\n",
       "</ol>\n",
       "</li>\n",
       "\t<li><ol class=list-inline>\n",
       "\t<li>'P'</li>\n",
       "\t<li>'a'</li>\n",
       "\t<li>'r'</li>\n",
       "\t<li>'i'</li>\n",
       "\t<li>'s'</li>\n",
       "</ol>\n",
       "</li>\n",
       "\t<li><ol class=list-inline>\n",
       "\t<li>'L'</li>\n",
       "\t<li>'o'</li>\n",
       "\t<li>'n'</li>\n",
       "\t<li>'d'</li>\n",
       "</ol>\n",
       "</li>\n",
       "\t<li><ol class=list-inline>\n",
       "\t<li>'T'</li>\n",
       "\t<li>'o'</li>\n",
       "\t<li>'k'</li>\n",
       "\t<li>'y'</li>\n",
       "</ol>\n",
       "</li>\n",
       "\t<li><ol class=list-inline>\n",
       "\t<li>'R'</li>\n",
       "\t<li>'i'</li>\n",
       "\t<li>'o'</li>\n",
       "\t<li>'d'</li>\n",
       "\t<li>'e'</li>\n",
       "\t<li>'J'</li>\n",
       "\t<li>'a'</li>\n",
       "\t<li>'n'</li>\n",
       "\t<li>'r'</li>\n",
       "</ol>\n",
       "</li>\n",
       "\t<li><ol class=list-inline>\n",
       "\t<li>'C'</li>\n",
       "\t<li>'a'</li>\n",
       "\t<li>'p'</li>\n",
       "\t<li>'e'</li>\n",
       "\t<li>'T'</li>\n",
       "\t<li>'o'</li>\n",
       "\t<li>'w'</li>\n",
       "\t<li>'n'</li>\n",
       "</ol>\n",
       "</li>\n",
       "</ol>\n"
      ],
      "text/latex": [
       "\\begin{enumerate}\n",
       "\\item \\begin{enumerate*}\n",
       "\\item 'N'\n",
       "\\item 'e'\n",
       "\\item 'w'\n",
       "\\item 'Y'\n",
       "\\item 'o'\n",
       "\\item 'r'\n",
       "\\item 'k'\n",
       "\\end{enumerate*}\n",
       "\n",
       "\\item \\begin{enumerate*}\n",
       "\\item 'P'\n",
       "\\item 'a'\n",
       "\\item 'r'\n",
       "\\item 'i'\n",
       "\\item 's'\n",
       "\\end{enumerate*}\n",
       "\n",
       "\\item \\begin{enumerate*}\n",
       "\\item 'L'\n",
       "\\item 'o'\n",
       "\\item 'n'\n",
       "\\item 'd'\n",
       "\\end{enumerate*}\n",
       "\n",
       "\\item \\begin{enumerate*}\n",
       "\\item 'T'\n",
       "\\item 'o'\n",
       "\\item 'k'\n",
       "\\item 'y'\n",
       "\\end{enumerate*}\n",
       "\n",
       "\\item \\begin{enumerate*}\n",
       "\\item 'R'\n",
       "\\item 'i'\n",
       "\\item 'o'\n",
       "\\item 'd'\n",
       "\\item 'e'\n",
       "\\item 'J'\n",
       "\\item 'a'\n",
       "\\item 'n'\n",
       "\\item 'r'\n",
       "\\end{enumerate*}\n",
       "\n",
       "\\item \\begin{enumerate*}\n",
       "\\item 'C'\n",
       "\\item 'a'\n",
       "\\item 'p'\n",
       "\\item 'e'\n",
       "\\item 'T'\n",
       "\\item 'o'\n",
       "\\item 'w'\n",
       "\\item 'n'\n",
       "\\end{enumerate*}\n",
       "\n",
       "\\end{enumerate}\n"
      ],
      "text/markdown": [
       "1. 1. 'N'\n",
       "2. 'e'\n",
       "3. 'w'\n",
       "4. 'Y'\n",
       "5. 'o'\n",
       "6. 'r'\n",
       "7. 'k'\n",
       "\n",
       "\n",
       "\n",
       "2. 1. 'P'\n",
       "2. 'a'\n",
       "3. 'r'\n",
       "4. 'i'\n",
       "5. 's'\n",
       "\n",
       "\n",
       "\n",
       "3. 1. 'L'\n",
       "2. 'o'\n",
       "3. 'n'\n",
       "4. 'd'\n",
       "\n",
       "\n",
       "\n",
       "4. 1. 'T'\n",
       "2. 'o'\n",
       "3. 'k'\n",
       "4. 'y'\n",
       "\n",
       "\n",
       "\n",
       "5. 1. 'R'\n",
       "2. 'i'\n",
       "3. 'o'\n",
       "4. 'd'\n",
       "5. 'e'\n",
       "6. 'J'\n",
       "7. 'a'\n",
       "8. 'n'\n",
       "9. 'r'\n",
       "\n",
       "\n",
       "\n",
       "6. 1. 'C'\n",
       "2. 'a'\n",
       "3. 'p'\n",
       "4. 'e'\n",
       "5. 'T'\n",
       "6. 'o'\n",
       "7. 'w'\n",
       "8. 'n'\n",
       "\n",
       "\n",
       "\n",
       "\n",
       "\n"
      ],
      "text/plain": [
       "[[1]]\n",
       "[1] \"N\" \"e\" \"w\" \"Y\" \"o\" \"r\" \"k\"\n",
       "\n",
       "[[2]]\n",
       "[1] \"P\" \"a\" \"r\" \"i\" \"s\"\n",
       "\n",
       "[[3]]\n",
       "[1] \"L\" \"o\" \"n\" \"d\"\n",
       "\n",
       "[[4]]\n",
       "[1] \"T\" \"o\" \"k\" \"y\"\n",
       "\n",
       "[[5]]\n",
       "[1] \"R\" \"i\" \"o\" \"d\" \"e\" \"J\" \"a\" \"n\" \"r\"\n",
       "\n",
       "[[6]]\n",
       "[1] \"C\" \"a\" \"p\" \"e\" \"T\" \"o\" \"w\" \"n\"\n"
      ]
     },
     "metadata": {},
     "output_type": "display_data"
    }
   ],
   "source": [
    "lapply(cities, unique_letters)"
   ]
  },
  {
   "cell_type": "code",
   "execution_count": 30,
   "metadata": {
    "scrolled": true
   },
   "outputs": [
    {
     "data": {
      "text/html": [
       "<dl>\n",
       "\t<dt>$`New York`</dt>\n",
       "\t\t<dd><ol class=list-inline>\n",
       "\t<li>'N'</li>\n",
       "\t<li>'e'</li>\n",
       "\t<li>'w'</li>\n",
       "\t<li>'Y'</li>\n",
       "\t<li>'o'</li>\n",
       "\t<li>'r'</li>\n",
       "\t<li>'k'</li>\n",
       "</ol>\n",
       "</dd>\n",
       "\t<dt>$Paris</dt>\n",
       "\t\t<dd><ol class=list-inline>\n",
       "\t<li>'P'</li>\n",
       "\t<li>'a'</li>\n",
       "\t<li>'r'</li>\n",
       "\t<li>'i'</li>\n",
       "\t<li>'s'</li>\n",
       "</ol>\n",
       "</dd>\n",
       "\t<dt>$London</dt>\n",
       "\t\t<dd><ol class=list-inline>\n",
       "\t<li>'L'</li>\n",
       "\t<li>'o'</li>\n",
       "\t<li>'n'</li>\n",
       "\t<li>'d'</li>\n",
       "</ol>\n",
       "</dd>\n",
       "\t<dt>$Tokyo</dt>\n",
       "\t\t<dd><ol class=list-inline>\n",
       "\t<li>'T'</li>\n",
       "\t<li>'o'</li>\n",
       "\t<li>'k'</li>\n",
       "\t<li>'y'</li>\n",
       "</ol>\n",
       "</dd>\n",
       "\t<dt>$`Rio de Janeiro`</dt>\n",
       "\t\t<dd><ol class=list-inline>\n",
       "\t<li>'R'</li>\n",
       "\t<li>'i'</li>\n",
       "\t<li>'o'</li>\n",
       "\t<li>'d'</li>\n",
       "\t<li>'e'</li>\n",
       "\t<li>'J'</li>\n",
       "\t<li>'a'</li>\n",
       "\t<li>'n'</li>\n",
       "\t<li>'r'</li>\n",
       "</ol>\n",
       "</dd>\n",
       "\t<dt>$`Cape Town`</dt>\n",
       "\t\t<dd><ol class=list-inline>\n",
       "\t<li>'C'</li>\n",
       "\t<li>'a'</li>\n",
       "\t<li>'p'</li>\n",
       "\t<li>'e'</li>\n",
       "\t<li>'T'</li>\n",
       "\t<li>'o'</li>\n",
       "\t<li>'w'</li>\n",
       "\t<li>'n'</li>\n",
       "</ol>\n",
       "</dd>\n",
       "</dl>\n"
      ],
      "text/latex": [
       "\\begin{description}\n",
       "\\item[\\$`New York`] \\begin{enumerate*}\n",
       "\\item 'N'\n",
       "\\item 'e'\n",
       "\\item 'w'\n",
       "\\item 'Y'\n",
       "\\item 'o'\n",
       "\\item 'r'\n",
       "\\item 'k'\n",
       "\\end{enumerate*}\n",
       "\n",
       "\\item[\\$Paris] \\begin{enumerate*}\n",
       "\\item 'P'\n",
       "\\item 'a'\n",
       "\\item 'r'\n",
       "\\item 'i'\n",
       "\\item 's'\n",
       "\\end{enumerate*}\n",
       "\n",
       "\\item[\\$London] \\begin{enumerate*}\n",
       "\\item 'L'\n",
       "\\item 'o'\n",
       "\\item 'n'\n",
       "\\item 'd'\n",
       "\\end{enumerate*}\n",
       "\n",
       "\\item[\\$Tokyo] \\begin{enumerate*}\n",
       "\\item 'T'\n",
       "\\item 'o'\n",
       "\\item 'k'\n",
       "\\item 'y'\n",
       "\\end{enumerate*}\n",
       "\n",
       "\\item[\\$`Rio de Janeiro`] \\begin{enumerate*}\n",
       "\\item 'R'\n",
       "\\item 'i'\n",
       "\\item 'o'\n",
       "\\item 'd'\n",
       "\\item 'e'\n",
       "\\item 'J'\n",
       "\\item 'a'\n",
       "\\item 'n'\n",
       "\\item 'r'\n",
       "\\end{enumerate*}\n",
       "\n",
       "\\item[\\$`Cape Town`] \\begin{enumerate*}\n",
       "\\item 'C'\n",
       "\\item 'a'\n",
       "\\item 'p'\n",
       "\\item 'e'\n",
       "\\item 'T'\n",
       "\\item 'o'\n",
       "\\item 'w'\n",
       "\\item 'n'\n",
       "\\end{enumerate*}\n",
       "\n",
       "\\end{description}\n"
      ],
      "text/markdown": [
       "$`New York`\n",
       ":   1. 'N'\n",
       "2. 'e'\n",
       "3. 'w'\n",
       "4. 'Y'\n",
       "5. 'o'\n",
       "6. 'r'\n",
       "7. 'k'\n",
       "\n",
       "\n",
       "\n",
       "$Paris\n",
       ":   1. 'P'\n",
       "2. 'a'\n",
       "3. 'r'\n",
       "4. 'i'\n",
       "5. 's'\n",
       "\n",
       "\n",
       "\n",
       "$London\n",
       ":   1. 'L'\n",
       "2. 'o'\n",
       "3. 'n'\n",
       "4. 'd'\n",
       "\n",
       "\n",
       "\n",
       "$Tokyo\n",
       ":   1. 'T'\n",
       "2. 'o'\n",
       "3. 'k'\n",
       "4. 'y'\n",
       "\n",
       "\n",
       "\n",
       "$`Rio de Janeiro`\n",
       ":   1. 'R'\n",
       "2. 'i'\n",
       "3. 'o'\n",
       "4. 'd'\n",
       "5. 'e'\n",
       "6. 'J'\n",
       "7. 'a'\n",
       "8. 'n'\n",
       "9. 'r'\n",
       "\n",
       "\n",
       "\n",
       "$`Cape Town`\n",
       ":   1. 'C'\n",
       "2. 'a'\n",
       "3. 'p'\n",
       "4. 'e'\n",
       "5. 'T'\n",
       "6. 'o'\n",
       "7. 'w'\n",
       "8. 'n'\n",
       "\n",
       "\n",
       "\n",
       "\n",
       "\n"
      ],
      "text/plain": [
       "$`New York`\n",
       "[1] \"N\" \"e\" \"w\" \"Y\" \"o\" \"r\" \"k\"\n",
       "\n",
       "$Paris\n",
       "[1] \"P\" \"a\" \"r\" \"i\" \"s\"\n",
       "\n",
       "$London\n",
       "[1] \"L\" \"o\" \"n\" \"d\"\n",
       "\n",
       "$Tokyo\n",
       "[1] \"T\" \"o\" \"k\" \"y\"\n",
       "\n",
       "$`Rio de Janeiro`\n",
       "[1] \"R\" \"i\" \"o\" \"d\" \"e\" \"J\" \"a\" \"n\" \"r\"\n",
       "\n",
       "$`Cape Town`\n",
       "[1] \"C\" \"a\" \"p\" \"e\" \"T\" \"o\" \"w\" \"n\"\n"
      ]
     },
     "metadata": {},
     "output_type": "display_data"
    }
   ],
   "source": [
    "sapply(cities, unique_letters) # No puede simplificar y devuelve otra lista"
   ]
  },
  {
   "attachments": {},
   "cell_type": "markdown",
   "metadata": {},
   "source": [
    "## `vapply(X, FUN, FUN.VALUE, …)`"
   ]
  },
  {
   "attachments": {},
   "cell_type": "markdown",
   "metadata": {},
   "source": [
    "El funcionamiento de `vapply` es análogo a `sapply`, pero en este caso podemos especificar el tipo de retorno de la función mediante el parámetro `FUN.VALUE`.\n",
    "\n",
    "Es una alternativa segura a `sapply`, ya que tenemos control sobre el retorno de la función."
   ]
  },
  {
   "cell_type": "code",
   "execution_count": 32,
   "metadata": {},
   "outputs": [
    {
     "data": {
      "text/html": [
       "<dl class=dl-horizontal>\n",
       "\t<dt>New York</dt>\n",
       "\t\t<dd>8</dd>\n",
       "\t<dt>Paris</dt>\n",
       "\t\t<dd>5</dd>\n",
       "\t<dt>London</dt>\n",
       "\t\t<dd>6</dd>\n",
       "\t<dt>Tokyo</dt>\n",
       "\t\t<dd>5</dd>\n",
       "\t<dt>Rio de Janeiro</dt>\n",
       "\t\t<dd>14</dd>\n",
       "\t<dt>Cape Town</dt>\n",
       "\t\t<dd>9</dd>\n",
       "</dl>\n"
      ],
      "text/latex": [
       "\\begin{description*}\n",
       "\\item[New York] 8\n",
       "\\item[Paris] 5\n",
       "\\item[London] 6\n",
       "\\item[Tokyo] 5\n",
       "\\item[Rio de Janeiro] 14\n",
       "\\item[Cape Town] 9\n",
       "\\end{description*}\n"
      ],
      "text/markdown": [
       "New York\n",
       ":   8Paris\n",
       ":   5London\n",
       ":   6Tokyo\n",
       ":   5Rio de Janeiro\n",
       ":   14Cape Town\n",
       ":   9\n",
       "\n"
      ],
      "text/plain": [
       "      New York          Paris         London          Tokyo Rio de Janeiro \n",
       "             8              5              6              5             14 \n",
       "     Cape Town \n",
       "             9 "
      ]
     },
     "metadata": {},
     "output_type": "display_data"
    }
   ],
   "source": [
    "###################################\n",
    "# vapply                          #\n",
    "###################################\n",
    "\n",
    "# vapply\n",
    "cities <- c(\"New York\", \"Paris\", \"London\", \"Tokyo\", \n",
    "            \"Rio de Janeiro\", \"Cape Town\")\n",
    "\n",
    "vapply(cities, nchar, numeric(1))"
   ]
  },
  {
   "cell_type": "code",
   "execution_count": 33,
   "metadata": {},
   "outputs": [],
   "source": [
    "first_and_last <- function(name) {\n",
    "  name <- gsub(\" \", \"\", name)\n",
    "  letters <- strsplit(name, split = \"\")[[1]]\n",
    "  c(first = min(letters), last = max(letters))\n",
    "}"
   ]
  },
  {
   "cell_type": "code",
   "execution_count": 34,
   "metadata": {},
   "outputs": [
    {
     "data": {
      "text/html": [
       "<table>\n",
       "<thead><tr><th></th><th scope=col>New York</th><th scope=col>Paris</th><th scope=col>London</th><th scope=col>Tokyo</th><th scope=col>Rio de Janeiro</th><th scope=col>Cape Town</th></tr></thead>\n",
       "<tbody>\n",
       "\t<tr><th scope=row>first</th><td>e</td><td>a</td><td>d</td><td>k</td><td>a</td><td>a</td></tr>\n",
       "\t<tr><th scope=row>last</th><td>Y</td><td>s</td><td>o</td><td>y</td><td>R</td><td>w</td></tr>\n",
       "</tbody>\n",
       "</table>\n"
      ],
      "text/latex": [
       "\\begin{tabular}{r|llllll}\n",
       "  & New York & Paris & London & Tokyo & Rio de Janeiro & Cape Town\\\\\n",
       "\\hline\n",
       "\tfirst & e & a & d & k & a & a\\\\\n",
       "\tlast & Y & s & o & y & R & w\\\\\n",
       "\\end{tabular}\n"
      ],
      "text/markdown": [
       "\n",
       "| <!--/--> | New York | Paris | London | Tokyo | Rio de Janeiro | Cape Town | \n",
       "|---|---|\n",
       "| first | e | a | d | k | a | a | \n",
       "| last | Y | s | o | y | R | w | \n",
       "\n",
       "\n"
      ],
      "text/plain": [
       "      New York Paris London Tokyo Rio de Janeiro Cape Town\n",
       "first e        a     d      k     a              a        \n",
       "last  Y        s     o      y     R              w        "
      ]
     },
     "metadata": {},
     "output_type": "display_data"
    }
   ],
   "source": [
    "vapply(cities, first_and_last, character(2))"
   ]
  },
  {
   "cell_type": "code",
   "execution_count": 35,
   "metadata": {},
   "outputs": [
    {
     "ename": "ERROR",
     "evalue": "Error in vapply(cities, first_and_last, character(1)): Los valores deben ser de longitud 1, \npero el resultado FUN(X [[1]]) es la longitud 2 \n",
     "output_type": "error",
     "traceback": [
      "Error in vapply(cities, first_and_last, character(1)): Los valores deben ser de longitud 1, \npero el resultado FUN(X [[1]]) es la longitud 2 \nTraceback:\n",
      "1. vapply(cities, first_and_last, character(1))"
     ]
    }
   ],
   "source": [
    "vapply(cities, first_and_last, character(1)) #Error, ya que estamos devolviendo un vector de longitud 2"
   ]
  },
  {
   "cell_type": "code",
   "execution_count": 36,
   "metadata": {},
   "outputs": [],
   "source": [
    "unique_letters <- function(name) {\n",
    "  name <- gsub(\" \", \"\", name)\n",
    "  letters <- strsplit(name, split = \"\")[[1]]\n",
    "  unique(letters)\n",
    "}"
   ]
  },
  {
   "cell_type": "code",
   "execution_count": 41,
   "metadata": {},
   "outputs": [
    {
     "ename": "ERROR",
     "evalue": "Error in parse(text = x, srcfile = src): <text>:2:0: unexpected end of input\n1: vapply(cities, unique_letters, character(10) #Error, el restultado es variable\n   ^\n",
     "output_type": "error",
     "traceback": [
      "Error in parse(text = x, srcfile = src): <text>:2:0: unexpected end of input\n1: vapply(cities, unique_letters, character(10) #Error, el restultado es variable\n   ^\nTraceback:\n"
     ]
    }
   ],
   "source": [
    "vapply(cities, unique_letters, character(10) #Error, el restultado es variable"
   ]
  },
  {
   "attachments": {},
   "cell_type": "markdown",
   "metadata": {},
   "source": [
    "## `do.call` (aunque no es de la familia)"
   ]
  },
  {
   "attachments": {},
   "cell_type": "markdown",
   "metadata": {},
   "source": [
    "La función `do.call` permite llamar a cualquier función de R, pero en lugar de pasar todos los argumentos uno por uno (escribiéndolos), se le pasa una lista con los mismos.\n",
    "\n",
    "No es una función propia de la familia apply."
   ]
  },
  {
   "cell_type": "code",
   "execution_count": 44,
   "metadata": {},
   "outputs": [
    {
     "data": {
      "text/html": [
       "<table>\n",
       "<thead><tr><th scope=col>a</th><th scope=col>b</th><th scope=col>x</th><th scope=col>y</th></tr></thead>\n",
       "<tbody>\n",
       "\t<tr><td>b         </td><td>B         </td><td> 2.4977863</td><td>-0.3513074</td></tr>\n",
       "\t<tr><td>b         </td><td>A         </td><td>-0.5946831</td><td> 1.1962994</td></tr>\n",
       "\t<tr><td>b         </td><td>D         </td><td> 1.1485762</td><td> 0.6533157</td></tr>\n",
       "\t<tr><td>c         </td><td>A         </td><td> 1.1485762</td><td> 0.9356084</td></tr>\n",
       "\t<tr><td>b         </td><td>B         </td><td> 2.4977863</td><td>-0.3513074</td></tr>\n",
       "\t<tr><td>b         </td><td>A         </td><td>-0.5946831</td><td> 1.1962994</td></tr>\n",
       "\t<tr><td>b         </td><td>D         </td><td> 1.1485762</td><td> 0.6533157</td></tr>\n",
       "\t<tr><td>c         </td><td>A         </td><td> 1.1485762</td><td> 0.9356084</td></tr>\n",
       "\t<tr><td>b         </td><td>B         </td><td> 2.4977863</td><td>-0.3513074</td></tr>\n",
       "\t<tr><td>b         </td><td>A         </td><td>-0.5946831</td><td> 1.1962994</td></tr>\n",
       "\t<tr><td>b         </td><td>D         </td><td> 1.1485762</td><td> 0.6533157</td></tr>\n",
       "\t<tr><td>c         </td><td>A         </td><td> 1.1485762</td><td> 0.9356084</td></tr>\n",
       "</tbody>\n",
       "</table>\n"
      ],
      "text/latex": [
       "\\begin{tabular}{r|llll}\n",
       " a & b & x & y\\\\\n",
       "\\hline\n",
       "\t b          & B          &  2.4977863 & -0.3513074\\\\\n",
       "\t b          & A          & -0.5946831 &  1.1962994\\\\\n",
       "\t b          & D          &  1.1485762 &  0.6533157\\\\\n",
       "\t c          & A          &  1.1485762 &  0.9356084\\\\\n",
       "\t b          & B          &  2.4977863 & -0.3513074\\\\\n",
       "\t b          & A          & -0.5946831 &  1.1962994\\\\\n",
       "\t b          & D          &  1.1485762 &  0.6533157\\\\\n",
       "\t c          & A          &  1.1485762 &  0.9356084\\\\\n",
       "\t b          & B          &  2.4977863 & -0.3513074\\\\\n",
       "\t b          & A          & -0.5946831 &  1.1962994\\\\\n",
       "\t b          & D          &  1.1485762 &  0.6533157\\\\\n",
       "\t c          & A          &  1.1485762 &  0.9356084\\\\\n",
       "\\end{tabular}\n"
      ],
      "text/markdown": [
       "\n",
       "a | b | x | y | \n",
       "|---|---|---|---|---|---|---|---|---|---|---|---|\n",
       "| b          | B          |  2.4977863 | -0.3513074 | \n",
       "| b          | A          | -0.5946831 |  1.1962994 | \n",
       "| b          | D          |  1.1485762 |  0.6533157 | \n",
       "| c          | A          |  1.1485762 |  0.9356084 | \n",
       "| b          | B          |  2.4977863 | -0.3513074 | \n",
       "| b          | A          | -0.5946831 |  1.1962994 | \n",
       "| b          | D          |  1.1485762 |  0.6533157 | \n",
       "| c          | A          |  1.1485762 |  0.9356084 | \n",
       "| b          | B          |  2.4977863 | -0.3513074 | \n",
       "| b          | A          | -0.5946831 |  1.1962994 | \n",
       "| b          | D          |  1.1485762 |  0.6533157 | \n",
       "| c          | A          |  1.1485762 |  0.9356084 | \n",
       "\n",
       "\n"
      ],
      "text/plain": [
       "   a b x          y         \n",
       "1  b B  2.4977863 -0.3513074\n",
       "2  b A -0.5946831  1.1962994\n",
       "3  b D  1.1485762  0.6533157\n",
       "4  c A  1.1485762  0.9356084\n",
       "5  b B  2.4977863 -0.3513074\n",
       "6  b A -0.5946831  1.1962994\n",
       "7  b D  1.1485762  0.6533157\n",
       "8  c A  1.1485762  0.9356084\n",
       "9  b B  2.4977863 -0.3513074\n",
       "10 b A -0.5946831  1.1962994\n",
       "11 b D  1.1485762  0.6533157\n",
       "12 c A  1.1485762  0.9356084"
      ]
     },
     "metadata": {},
     "output_type": "display_data"
    }
   ],
   "source": [
    "###################################\n",
    "# do.cal                          #\n",
    "###################################\n",
    "\n",
    "one <- data.frame(a = c(\"b\", \"b\", \"b\", \"c\"),\n",
    "                  b = c(\"B\", \"A\", \"D\", \"A\"),\n",
    "                  x = c(2.49778634403711, -0.594683138631719, 1.14857619580259, 1.14857619580259),\n",
    "                  y = c(-0.351307445767206, 1.19629936975021, 0.653315728121014, 0.935608419299617))\n",
    "\n",
    "two <- data.frame(a = c(\"b\", \"b\", \"b\", \"c\"),\n",
    "                  b = c(\"B\", \"A\", \"D\", \"A\"),\n",
    "                  x = c(2.49778634403711, -0.594683138631719, 1.14857619580259, 1.14857619580259),\n",
    "                  y = c(-0.351307445767206, 1.19629936975021, 0.653315728121014, 0.935608419299617))\n",
    "\n",
    "three <- data.frame(a = c(\"b\", \"b\", \"b\", \"c\"),\n",
    "                    b = c(\"B\", \"A\", \"D\", \"A\"),\n",
    "                    x = c(2.49778634403711, -0.594683138631719, 1.14857619580259, 1.14857619580259),\n",
    "                    y = c(-0.351307445767206, 1.19629936975021, 0.653315728121014, 0.935608419299617))\n",
    "\n",
    "res1 <- rbind(one, two, three)\n",
    "\n",
    "allframes <- list(one, two, three)\n",
    "\n",
    "res2 <- do.call(rbind, allframes)\n",
    "res2"
   ]
  },
  {
   "cell_type": "markdown",
   "metadata": {},
   "source": [
    "## Ejercicio 7"
   ]
  },
  {
   "cell_type": "code",
   "execution_count": null,
   "metadata": {},
   "outputs": [],
   "source": [
    "###################################\n",
    "# lapply                          #\n",
    "###################################\n",
    "\n",
    "# El siguiente vector tiene un listado con nombres de matemáticos y sus años de nacimiento.\n",
    "# Ojo está todo codificado dentro de la misma cadena de caracteres.\n",
    "pioneers <- c(\"GAUSS:1777\", \"BAYES:1702\", \"PASCAL:1623\", \"PEARSON:1857\")\n",
    "\n",
    "# Separa los nombres y años utilizando la función strsplit\n",
    "split_math <- strsplit(pioneers, \":\")\n",
    "\n",
    "# Aplica la función tolower a todos los elementos de split_math para convertirlos a minúsculas\n",
    "split_low <- lapply(split_math, tolower)\n",
    "\n",
    "# Examina el conteido\n",
    "split_low\n",
    "\n",
    "# Escribe una función que devuelva el primer elemento de un vector\n",
    "select_first <- function(x) {\n",
    "  return(x[1])\n",
    "}\n",
    "\n",
    "# Aplica la función select_first a split_low\n",
    "names <- lapply(split_low, select_first)\n",
    "\n",
    "# Escribe una función que devuelva el segundo elemento de un vector\n",
    "select_second <- function(x) {\n",
    "  return(x[2])\n",
    "}\n",
    "\n",
    "# Aplica la función select_second a split_low\n",
    "years <- lapply(split_low, select_second)\n",
    "\n",
    "# Utiliza las dos funciones anteriores como funciones anónimas\n",
    "names <- lapply(split_low, function(x) return(x[1]))\n",
    "years <- lapply(split_low, function(x) return(x[2]))\n",
    "\n",
    "# Unifica las dos funciones en una única función que reciba como parámetros el vector y el índice del elemento a devolver\n",
    "select_el <- function(x, i) {\n",
    "  return(x[i]);\n",
    "}\n",
    "\n",
    "# Usa la nueva función para obtener los mismos resultados que antes\n",
    "names <- lapply(split_low, select_el, i = 1)\n",
    "years <- lapply(split_low, select_el, i = 2)\n",
    "\n",
    "# ¿Qué pasa al ejecutar?\n",
    "lapply(split_low, function(x) {\n",
    "  if (nchar(x[1]) > 5) {\n",
    "    return(NULL)\n",
    "  } else {\n",
    "    return(x[2])\n",
    "  }\n",
    "})"
   ]
  },
  {
   "cell_type": "code",
   "execution_count": null,
   "metadata": {},
   "outputs": [],
   "source": [
    "###################################\n",
    "# sapply                          #\n",
    "###################################\n",
    "\n",
    "# La siguiente variable contiene muestras de temperatura de cada día de la semana.\n",
    "temp <- list(monday = c(3, 7, 9, 6, -1),\n",
    "             tuesday = c(6, 9, 12, 13, 5),\n",
    "             wednesday = c(4, 8, 3, -1, -3),\n",
    "             thursday = c(1, 4, 7, 2, -2),\n",
    "             friday = c(5, 7, 9, 4, 2),\n",
    "             saturday = c(-3, 5, 8, 9, 4),\n",
    "             sunday = c(3, 6, 9, 4, 1))\n",
    "\n",
    "str(temp)\n",
    "\n",
    "# Utiliza lapply para encontrar la temeperatura mínima de cada día\n",
    "lapply(temp, min)\n",
    "\n",
    "# Utiliza sapply para encontrar la temeperatura mínima de cada día\n",
    "sapply(temp, min)\n",
    "\n",
    "# Utiliza lapply para encontrar la temeperatura máxima de cada día\n",
    "lapply(temp, max)\n",
    "\n",
    "# Utiliza sapply para encontrar la temeperatura máxima de cada día\n",
    "sapply(temp, max)\n",
    "\n",
    "# Crea una función extremes_avg que calcula la media entre la mínima del día y la máxima\n",
    "extremes_avg <- function(x) {\n",
    "  mean(c(max(x), min(x)))\n",
    "}\n",
    "\n",
    "# Aplica la nueva función utilizando sapply\n",
    "sapply(temp, extremes_avg)\n",
    "\n",
    "# Aplica la nueva función utilizando lapply\n",
    "lapply(temp, extremes_avg)\n",
    "\n",
    "# Crea una función extremes que devuelve un vector con:\n",
    "#   1. La temperatura mínima\n",
    "#   2. La temperatura máxima\n",
    "extremes <- function(x) {\n",
    "  c(min = min(x), max = max(x))\n",
    "}\n",
    "\n",
    "# Aplica la nueva función utilizando sapply\n",
    "sapply(temp, extremes)\n",
    "\n",
    "# Aplica la nueva función utilizando lapply\n",
    "lapply(temp, extremes)\n",
    "\n",
    "# Crea una función below_zero que devuelve las muestras menores que cero\n",
    "below_zero <- function(x) {\n",
    "  x[x < 0]\n",
    "}\n",
    "\n",
    "# Aplica la nueva función utilizando sapply y guardarla en freezing_s\n",
    "freezing_s <- sapply(temp, below_zero)\n",
    "\n",
    "# Aplica la nueva función utilizando lapply y guardarla en freezing_l\n",
    "freezing_l <- lapply(temp, below_zero)\n",
    "\n",
    "# Compara freezing_s y freezing_l con identical\n",
    "identical(freezing_s, freezing_l)\n",
    "\n",
    "# Crea una función que devuelva los siguiente: cat(\"The average temperature is\", mean(x), \"\\n\")\n",
    "print_info <- function(x) {\n",
    "  cat(\"The average temperature is\", mean(x), \"\\n\")\n",
    "}\n",
    "\n",
    "# Aplica la nueva función utilizando lapply\n",
    "lapply(temp, print_info)\n",
    "\n",
    "# Aplica la nueva función utilizando sapply\n",
    "sapply(temp, print_info)\n",
    "\n",
    "#¿Qué ha pasado? sapply no ha podido simplificar"
   ]
  },
  {
   "cell_type": "code",
   "execution_count": null,
   "metadata": {},
   "outputs": [],
   "source": [
    "###################################\n",
    "# vapply                          #\n",
    "###################################\n",
    "\n",
    "# La siguiente variable contiene muestras de temperatura de cada día de la semana.\n",
    "temp <- list(monday = c(3, 7, 9, 6, -1),\n",
    "             tuesday = c(6, 9, 12, 13, 5),\n",
    "             wednesday = c(4, 8, 3, -1, -3),\n",
    "             thursday = c(1, 4, 7, 2, -2),\n",
    "             friday = c(5, 7, 9, 4, 2),\n",
    "             saturday = c(-3, 5, 8, 9, 4),\n",
    "             sunday = c(3, 6, 9, 4, 1))\n",
    "\n",
    "str(temp)\n",
    "\n",
    "# Crea la función basics que devuelve un vector con nombres con:\n",
    "#    1. min: temperatura mínima\n",
    "#    2. mean: temperatura media\n",
    "#    3. max: temperatura máxima\n",
    "basics <- function(x) {\n",
    "  c(min = min(x), mean = mean(x), max = max(x))\n",
    "}\n",
    "\n",
    "# Usando vapply aplica la función basics\n",
    "vapply(temp, basics, numeric(3))\n",
    "\n",
    "# Con esta nueva definición de la función basics\n",
    "basics <- function(x) {\n",
    "  c(min = min(x), mean = mean(x), median = median(x), max = max(x))\n",
    "}\n",
    "\n",
    "# Arregla el error:\n",
    "vapply(temp, basics, numeric(3))\n",
    "vapply(temp, basics, numeric(4))\n",
    "\n",
    "\n",
    "# Convierte este sapply en un vapply\n",
    "sapply(temp, max)\n",
    "vapply(temp, max, numeric(1))\n",
    "\n",
    "# Convierte este sapply en un vapply\n",
    "sapply(temp, function(x, y) { mean(x) > y }, y = 5)\n",
    "vapply(temp, function(x, y) { mean(x) > y }, y = 5, logical(1))\n",
    "\n",
    "# Con esta función get_info\n",
    "get_info <- function(x, y) { \n",
    "  if (mean(x) > y) {\n",
    "    return(\"Not too cold!\")\n",
    "  } else {\n",
    "    return(\"Pretty cold!\")\n",
    "  }\n",
    "}\n",
    "\n",
    "# Convierte este sapply en un vapply\n",
    "sapply(temp, get_info, y = 5)\n",
    "vapply(temp, get_info, y = 5, character(1))"
   ]
  }
 ],
 "metadata": {
  "kernelspec": {
   "display_name": "R",
   "language": "R",
   "name": "ir"
  },
  "language_info": {
   "codemirror_mode": "r",
   "file_extension": ".r",
   "mimetype": "text/x-r-source",
   "name": "R",
   "pygments_lexer": "r",
   "version": "3.5.1"
  }
 },
 "nbformat": 4,
 "nbformat_minor": 2
}
