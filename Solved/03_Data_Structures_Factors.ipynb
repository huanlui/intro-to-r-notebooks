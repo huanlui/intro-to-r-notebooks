{
 "cells": [
  {
   "cell_type": "markdown",
   "metadata": {},
   "source": [
    "# Estructuras de datos en ![](https://www.r-project.org/Rlogo.png)\n",
    "\n"
   ]
  },
  {
   "attachments": {},
   "cell_type": "markdown",
   "metadata": {},
   "source": [
    "## Factores (factor)\n",
    "\n",
    "Los factores (factors) son un tipo de estructura de datos para almacenar variables\n",
    "categóricas.\n",
    "\n",
    "Recordatorio:\n",
    "+ **Variable categórica**: aquella que puede tomar un número limitado de posibles valores  (categorías). Ejemplos de variables categóricas: género de una persona, nacionalidad…\n",
    "    + Variable categórica nominal: aquella que no tiene un orden preestablecido.\n",
    "    + Variable categórica ordinal: aquella que tiene un orden establecido.\n",
    "+ **Variable continua**: aquella que puede tomar un número infinito de posibles valores. Ejemplos de variables continuas: peso de una persona, estatura de una persona…\n",
    "\n",
    "A los distintos valores que puede tomar la variable se les denomina niveles, **factor levels**.\n",
    "\n",
    "¿Por qué usar factores?\n",
    "+ Permiten establecer un orden distinto al alfabético.\n",
    "+ Muchos modelos/paquetes de R los emplean"
   ]
  },
  {
   "attachments": {},
   "cell_type": "markdown",
   "metadata": {},
   "source": [
    "### Creación de factores"
   ]
  },
  {
   "cell_type": "code",
   "execution_count": 1,
   "metadata": {},
   "outputs": [
    {
     "data": {
      "text/html": [
       "<ol class=list-inline>\n",
       "\t<li>M</li>\n",
       "\t<li>F</li>\n",
       "\t<li>F</li>\n",
       "\t<li>M</li>\n",
       "\t<li>M</li>\n",
       "\t<li>F</li>\n",
       "</ol>\n",
       "\n",
       "<details>\n",
       "\t<summary style=display:list-item;cursor:pointer>\n",
       "\t\t<strong>Levels</strong>:\n",
       "\t</summary>\n",
       "\t<ol class=list-inline>\n",
       "\t\t<li>'F'</li>\n",
       "\t\t<li>'M'</li>\n",
       "\t</ol>\n",
       "</details>"
      ],
      "text/latex": [
       "\\begin{enumerate*}\n",
       "\\item M\n",
       "\\item F\n",
       "\\item F\n",
       "\\item M\n",
       "\\item M\n",
       "\\item F\n",
       "\\end{enumerate*}\n",
       "\n",
       "\\emph{Levels}: \\begin{enumerate*}\n",
       "\\item 'F'\n",
       "\\item 'M'\n",
       "\\end{enumerate*}\n"
      ],
      "text/markdown": [
       "1. M\n",
       "2. F\n",
       "3. F\n",
       "4. M\n",
       "5. M\n",
       "6. F\n",
       "\n",
       "\n",
       "\n",
       "**Levels**: 1. 'F'\n",
       "2. 'M'\n",
       "\n",
       "\n"
      ],
      "text/plain": [
       "[1] M F F M M F\n",
       "Levels: F M"
      ]
     },
     "metadata": {},
     "output_type": "display_data"
    }
   ],
   "source": [
    "###################################\n",
    "# Factores: Creación               #\n",
    "###################################\n",
    "\n",
    "# Creación de factor sin orden\n",
    "gender_vector <- c('M', 'F', 'F', 'M', 'M', 'F')\n",
    "gender_factor <- factor(gender_vector)\n",
    "gender_factor"
   ]
  },
  {
   "cell_type": "code",
   "execution_count": 18,
   "metadata": {},
   "outputs": [
    {
     "data": {
      "text/html": [
       "<ol class=list-inline>\n",
       "\t<li>S</li>\n",
       "\t<li>L</li>\n",
       "\t<li>M</li>\n",
       "\t<li>L</li>\n",
       "\t<li>S</li>\n",
       "\t<li>M</li>\n",
       "</ol>\n",
       "\n",
       "<details>\n",
       "\t<summary style=display:list-item;cursor:pointer>\n",
       "\t\t<strong>Levels</strong>:\n",
       "\t</summary>\n",
       "\t<ol class=list-inline>\n",
       "\t\t<li>'L'</li>\n",
       "\t\t<li>'M'</li>\n",
       "\t\t<li>'S'</li>\n",
       "\t</ol>\n",
       "</details>"
      ],
      "text/latex": [
       "\\begin{enumerate*}\n",
       "\\item S\n",
       "\\item L\n",
       "\\item M\n",
       "\\item L\n",
       "\\item S\n",
       "\\item M\n",
       "\\end{enumerate*}\n",
       "\n",
       "\\emph{Levels}: \\begin{enumerate*}\n",
       "\\item 'L'\n",
       "\\item 'M'\n",
       "\\item 'S'\n",
       "\\end{enumerate*}\n"
      ],
      "text/markdown": [
       "1. S\n",
       "2. L\n",
       "3. M\n",
       "4. L\n",
       "5. S\n",
       "6. M\n",
       "\n",
       "\n",
       "\n",
       "**Levels**: 1. 'L'\n",
       "2. 'M'\n",
       "3. 'S'\n",
       "\n",
       "\n"
      ],
      "text/plain": [
       "[1] S L M L S M\n",
       "Levels: L < M < S"
      ]
     },
     "metadata": {},
     "output_type": "display_data"
    }
   ],
   "source": [
    "# Creación de factor con orden (pero sin especificar un orden)\n",
    "size_vector <- c('S', 'L', 'M', 'L', 'S', 'M')\n",
    "size_factor <- factor(size_vector, ordered = TRUE) # L < M < S\n",
    "size_factor"
   ]
  },
  {
   "cell_type": "code",
   "execution_count": 3,
   "metadata": {},
   "outputs": [
    {
     "data": {
      "text/html": [
       "<ol class=list-inline>\n",
       "\t<li>S</li>\n",
       "\t<li>L</li>\n",
       "\t<li>M</li>\n",
       "\t<li>L</li>\n",
       "\t<li>S</li>\n",
       "\t<li>M</li>\n",
       "</ol>\n",
       "\n",
       "<details>\n",
       "\t<summary style=display:list-item;cursor:pointer>\n",
       "\t\t<strong>Levels</strong>:\n",
       "\t</summary>\n",
       "\t<ol class=list-inline>\n",
       "\t\t<li>'S'</li>\n",
       "\t\t<li>'M'</li>\n",
       "\t\t<li>'L'</li>\n",
       "\t</ol>\n",
       "</details>"
      ],
      "text/latex": [
       "\\begin{enumerate*}\n",
       "\\item S\n",
       "\\item L\n",
       "\\item M\n",
       "\\item L\n",
       "\\item S\n",
       "\\item M\n",
       "\\end{enumerate*}\n",
       "\n",
       "\\emph{Levels}: \\begin{enumerate*}\n",
       "\\item 'S'\n",
       "\\item 'M'\n",
       "\\item 'L'\n",
       "\\end{enumerate*}\n"
      ],
      "text/markdown": [
       "1. S\n",
       "2. L\n",
       "3. M\n",
       "4. L\n",
       "5. S\n",
       "6. M\n",
       "\n",
       "\n",
       "\n",
       "**Levels**: 1. 'S'\n",
       "2. 'M'\n",
       "3. 'L'\n",
       "\n",
       "\n"
      ],
      "text/plain": [
       "[1] S L M L S M\n",
       "Levels: S < M < L"
      ]
     },
     "metadata": {},
     "output_type": "display_data"
    }
   ],
   "source": [
    "# Creación de factor con orden (especificando el orden)\n",
    "size_vector_2 <- c('S', 'L', 'M', 'L', 'S', 'M')\n",
    "size_factor_2 <- factor(size_vector_2, ordered = TRUE, levels = c(\"S\", \"M\", \"L\")) # S < M < L\n",
    "size_factor_2"
   ]
  },
  {
   "cell_type": "code",
   "execution_count": 4,
   "metadata": {},
   "outputs": [
    {
     "data": {
      "text/html": [
       "<ol class=list-inline>\n",
       "\t<li>Male</li>\n",
       "\t<li>Female</li>\n",
       "\t<li>Female</li>\n",
       "\t<li>Male</li>\n",
       "\t<li>Male</li>\n",
       "\t<li>&lt;NA&gt;</li>\n",
       "</ol>\n",
       "\n",
       "<details>\n",
       "\t<summary style=display:list-item;cursor:pointer>\n",
       "\t\t<strong>Levels</strong>:\n",
       "\t</summary>\n",
       "\t<ol class=list-inline>\n",
       "\t\t<li>'Male'</li>\n",
       "\t\t<li>'Female'</li>\n",
       "\t\t<li>NA</li>\n",
       "\t</ol>\n",
       "</details>"
      ],
      "text/latex": [
       "\\begin{enumerate*}\n",
       "\\item Male\n",
       "\\item Female\n",
       "\\item Female\n",
       "\\item Male\n",
       "\\item Male\n",
       "\\item <NA>\n",
       "\\end{enumerate*}\n",
       "\n",
       "\\emph{Levels}: \\begin{enumerate*}\n",
       "\\item 'Male'\n",
       "\\item 'Female'\n",
       "\\item NA\n",
       "\\end{enumerate*}\n"
      ],
      "text/markdown": [
       "1. Male\n",
       "2. Female\n",
       "3. Female\n",
       "4. Male\n",
       "5. Male\n",
       "6. &lt;NA&gt;\n",
       "\n",
       "\n",
       "\n",
       "**Levels**: 1. 'Male'\n",
       "2. 'Female'\n",
       "3. NA\n",
       "\n",
       "\n"
      ],
      "text/plain": [
       "[1] Male   Female Female Male   Male   <NA>  \n",
       "Levels: Male Female <NA>"
      ]
     },
     "metadata": {},
     "output_type": "display_data"
    }
   ],
   "source": [
    "# Creación de factor especificando etiquetas\n",
    "gender_levels_2 <- c('M', 'F', '-') # Como se leen los datos a la entrada\n",
    "gender_labels_2 <- c('Male', 'Female', NA) # Como se etiquetan\n",
    "gender_vector_2 <- c('M', 'F', 'F', 'M', 'M', '-')\n",
    "gender_factor_2 <- factor(gender_vector_2, levels = gender_levels_2, labels = gender_labels_2)\n",
    "gender_factor_2"
   ]
  },
  {
   "attachments": {},
   "cell_type": "markdown",
   "metadata": {},
   "source": [
    "### Operaciones sobre factores\n",
    "\n",
    "No es posible realizar operaciones aritméticas con factores.\n",
    "\n",
    "Pero sí es posible realizar operaciones booleanas (comparaciones)"
   ]
  },
  {
   "cell_type": "code",
   "execution_count": 17,
   "metadata": {},
   "outputs": [
    {
     "data": {
      "text/html": [
       "FALSE"
      ],
      "text/latex": [
       "FALSE"
      ],
      "text/markdown": [
       "FALSE"
      ],
      "text/plain": [
       "[1] FALSE"
      ]
     },
     "metadata": {},
     "output_type": "display_data"
    },
    {
     "name": "stderr",
     "output_type": "stream",
     "text": [
      "Warning message in eval(expr, envir, enclos):\n",
      "\"Métodos incompatibles (\"Ops.factor\", \"Ops.ordered\") para \"==\"\""
     ]
    },
    {
     "ename": "ERROR",
     "evalue": "Error in gender_factor[1] == size_factor[2]: comparaciones de estos tipoo no están implementadas\n",
     "output_type": "error",
     "traceback": [
      "Error in gender_factor[1] == size_factor[2]: comparaciones de estos tipoo no están implementadas\nTraceback:\n"
     ]
    }
   ],
   "source": [
    "###################################\n",
    "# Factores: Operaciones            #\n",
    "###################################\n",
    "\n",
    "# Comprobaciones en factors sin orden (solo =)\n",
    "gender_factor[1] == gender_factor[2]\n",
    "gender_factor[1] == size_factor[2] # ERROR: solo se pueden comparar si son del mismo tipo"
   ]
  },
  {
   "cell_type": "code",
   "execution_count": 6,
   "metadata": {},
   "outputs": [
    {
     "data": {
      "text/html": [
       "TRUE"
      ],
      "text/latex": [
       "TRUE"
      ],
      "text/markdown": [
       "TRUE"
      ],
      "text/plain": [
       "[1] TRUE"
      ]
     },
     "metadata": {},
     "output_type": "display_data"
    },
    {
     "name": "stderr",
     "output_type": "stream",
     "text": [
      "Warning message in Ops.factor(gender_factor[1], gender_factor[2]):\n",
      "\"'<' not meaningful for factors\""
     ]
    },
    {
     "data": {
      "text/html": [
       "&lt;NA&gt;"
      ],
      "text/latex": [
       "<NA>"
      ],
      "text/markdown": [
       "&lt;NA&gt;"
      ],
      "text/plain": [
       "[1] NA"
      ]
     },
     "metadata": {},
     "output_type": "display_data"
    }
   ],
   "source": [
    "# Comprobaciones en factors con orden (se puede >, <...)\n",
    "size_factor[1] > size_factor[2]\n",
    "gender_factor[1] < gender_factor[2] # ERROR: solo se pueden comparar si tienen orden"
   ]
  },
  {
   "cell_type": "code",
   "execution_count": 7,
   "metadata": {},
   "outputs": [
    {
     "data": {
      "text/html": [
       "<ol class=list-inline>\n",
       "\t<li>'L'</li>\n",
       "\t<li>'M'</li>\n",
       "\t<li>'S'</li>\n",
       "</ol>\n"
      ],
      "text/latex": [
       "\\begin{enumerate*}\n",
       "\\item 'L'\n",
       "\\item 'M'\n",
       "\\item 'S'\n",
       "\\end{enumerate*}\n"
      ],
      "text/markdown": [
       "1. 'L'\n",
       "2. 'M'\n",
       "3. 'S'\n",
       "\n",
       "\n"
      ],
      "text/plain": [
       "[1] \"L\" \"M\" \"S\""
      ]
     },
     "metadata": {},
     "output_type": "display_data"
    },
    {
     "data": {
      "text/html": [
       "'L'"
      ],
      "text/latex": [
       "'L'"
      ],
      "text/markdown": [
       "'L'"
      ],
      "text/plain": [
       "[1] \"L\""
      ]
     },
     "metadata": {},
     "output_type": "display_data"
    }
   ],
   "source": [
    "# Obtener los niveles\n",
    "levels(size_factor)\n",
    "levels(size_factor)[1]"
   ]
  },
  {
   "cell_type": "code",
   "execution_count": 8,
   "metadata": {},
   "outputs": [
    {
     "data": {
      "text/html": [
       "TRUE"
      ],
      "text/latex": [
       "TRUE"
      ],
      "text/markdown": [
       "TRUE"
      ],
      "text/plain": [
       "[1] TRUE"
      ]
     },
     "metadata": {},
     "output_type": "display_data"
    }
   ],
   "source": [
    "# Comprobar la existencia de niveles\n",
    "any(levels(size_factor) %in% c('L', 'S'))"
   ]
  },
  {
   "cell_type": "code",
   "execution_count": 19,
   "metadata": {},
   "outputs": [
    {
     "data": {
      "text/html": [
       "<ol class=list-inline>\n",
       "\t<li>'L'</li>\n",
       "\t<li>'M'</li>\n",
       "\t<li>'S'</li>\n",
       "\t<li>'XL'</li>\n",
       "\t<li>'XS'</li>\n",
       "</ol>\n"
      ],
      "text/latex": [
       "\\begin{enumerate*}\n",
       "\\item 'L'\n",
       "\\item 'M'\n",
       "\\item 'S'\n",
       "\\item 'XL'\n",
       "\\item 'XS'\n",
       "\\end{enumerate*}\n"
      ],
      "text/markdown": [
       "1. 'L'\n",
       "2. 'M'\n",
       "3. 'S'\n",
       "4. 'XL'\n",
       "5. 'XS'\n",
       "\n",
       "\n"
      ],
      "text/plain": [
       "[1] \"L\"  \"M\"  \"S\"  \"XL\" \"XS\""
      ]
     },
     "metadata": {},
     "output_type": "display_data"
    },
    {
     "data": {
      "text/html": [
       "<ol class=list-inline>\n",
       "\t<li>S</li>\n",
       "\t<li>L</li>\n",
       "\t<li>M</li>\n",
       "\t<li>L</li>\n",
       "\t<li>S</li>\n",
       "\t<li>M</li>\n",
       "</ol>\n",
       "\n",
       "<details>\n",
       "\t<summary style=display:list-item;cursor:pointer>\n",
       "\t\t<strong>Levels</strong>:\n",
       "\t</summary>\n",
       "\t<ol class=list-inline>\n",
       "\t\t<li>'L'</li>\n",
       "\t\t<li>'M'</li>\n",
       "\t\t<li>'S'</li>\n",
       "\t\t<li>'XL'</li>\n",
       "\t\t<li>'XS'</li>\n",
       "\t</ol>\n",
       "</details>"
      ],
      "text/latex": [
       "\\begin{enumerate*}\n",
       "\\item S\n",
       "\\item L\n",
       "\\item M\n",
       "\\item L\n",
       "\\item S\n",
       "\\item M\n",
       "\\end{enumerate*}\n",
       "\n",
       "\\emph{Levels}: \\begin{enumerate*}\n",
       "\\item 'L'\n",
       "\\item 'M'\n",
       "\\item 'S'\n",
       "\\item 'XL'\n",
       "\\item 'XS'\n",
       "\\end{enumerate*}\n"
      ],
      "text/markdown": [
       "1. S\n",
       "2. L\n",
       "3. M\n",
       "4. L\n",
       "5. S\n",
       "6. M\n",
       "\n",
       "\n",
       "\n",
       "**Levels**: 1. 'L'\n",
       "2. 'M'\n",
       "3. 'S'\n",
       "4. 'XL'\n",
       "5. 'XS'\n",
       "\n",
       "\n"
      ],
      "text/plain": [
       "[1] S L M L S M\n",
       "Levels: L < M < S < XL < XS"
      ]
     },
     "metadata": {},
     "output_type": "display_data"
    }
   ],
   "source": [
    "# Añadir nuevos niveles\n",
    "levels(size_factor)[length(levels(size_factor)) + 1] <- 'XL'\n",
    "levels(size_factor) <- c(levels(size_factor), 'XS')\n",
    "levels(size_factor)\n",
    "size_factor"
   ]
  },
  {
   "cell_type": "code",
   "execution_count": 20,
   "metadata": {},
   "outputs": [
    {
     "data": {
      "text/html": [
       "<ol class=list-inline>\n",
       "\t<li>'L'</li>\n",
       "\t<li>'M'</li>\n",
       "\t<li>'S'</li>\n",
       "\t<li>'XL'</li>\n",
       "\t<li>'XS'</li>\n",
       "</ol>\n"
      ],
      "text/latex": [
       "\\begin{enumerate*}\n",
       "\\item 'L'\n",
       "\\item 'M'\n",
       "\\item 'S'\n",
       "\\item 'XL'\n",
       "\\item 'XS'\n",
       "\\end{enumerate*}\n"
      ],
      "text/markdown": [
       "1. 'L'\n",
       "2. 'M'\n",
       "3. 'S'\n",
       "4. 'XL'\n",
       "5. 'XS'\n",
       "\n",
       "\n"
      ],
      "text/plain": [
       "[1] \"L\"  \"M\"  \"S\"  \"XL\" \"XS\""
      ]
     },
     "metadata": {},
     "output_type": "display_data"
    },
    {
     "data": {
      "text/html": [
       "<ol class=list-inline>\n",
       "\t<li>S</li>\n",
       "\t<li>L</li>\n",
       "\t<li>M</li>\n",
       "\t<li>L</li>\n",
       "\t<li>S</li>\n",
       "\t<li>M</li>\n",
       "</ol>\n",
       "\n",
       "<details>\n",
       "\t<summary style=display:list-item;cursor:pointer>\n",
       "\t\t<strong>Levels</strong>:\n",
       "\t</summary>\n",
       "\t<ol class=list-inline>\n",
       "\t\t<li>'XS'</li>\n",
       "\t\t<li>'S'</li>\n",
       "\t\t<li>'M'</li>\n",
       "\t\t<li>'L'</li>\n",
       "\t\t<li>'XL'</li>\n",
       "\t</ol>\n",
       "</details>"
      ],
      "text/latex": [
       "\\begin{enumerate*}\n",
       "\\item S\n",
       "\\item L\n",
       "\\item M\n",
       "\\item L\n",
       "\\item S\n",
       "\\item M\n",
       "\\end{enumerate*}\n",
       "\n",
       "\\emph{Levels}: \\begin{enumerate*}\n",
       "\\item 'XS'\n",
       "\\item 'S'\n",
       "\\item 'M'\n",
       "\\item 'L'\n",
       "\\item 'XL'\n",
       "\\end{enumerate*}\n"
      ],
      "text/markdown": [
       "1. S\n",
       "2. L\n",
       "3. M\n",
       "4. L\n",
       "5. S\n",
       "6. M\n",
       "\n",
       "\n",
       "\n",
       "**Levels**: 1. 'XS'\n",
       "2. 'S'\n",
       "3. 'M'\n",
       "4. 'L'\n",
       "5. 'XL'\n",
       "\n",
       "\n"
      ],
      "text/plain": [
       "[1] S L M L S M\n",
       "Levels: XS < S < M < L < XL"
      ]
     },
     "metadata": {},
     "output_type": "display_data"
    }
   ],
   "source": [
    "# Reordenar niveles\n",
    "levels(size_factor)\n",
    "size_factor <- factor(size_factor, ordered = TRUE, levels(size_factor)[c(5, 3:1, 4)])\n",
    "size_factor"
   ]
  },
  {
   "cell_type": "code",
   "execution_count": 22,
   "metadata": {},
   "outputs": [
    {
     "data": {
      "text/html": [
       "<ol class=list-inline>\n",
       "\t<li>S</li>\n",
       "\t<li>L</li>\n",
       "\t<li>M</li>\n",
       "\t<li>L</li>\n",
       "\t<li>S</li>\n",
       "\t<li>M</li>\n",
       "</ol>\n",
       "\n",
       "<details>\n",
       "\t<summary style=display:list-item;cursor:pointer>\n",
       "\t\t<strong>Levels</strong>:\n",
       "\t</summary>\n",
       "\t<ol class=list-inline>\n",
       "\t\t<li>'XS'</li>\n",
       "\t\t<li>'S'</li>\n",
       "\t\t<li>'M'</li>\n",
       "\t\t<li>'L'</li>\n",
       "\t\t<li>'ExtraL'</li>\n",
       "\t</ol>\n",
       "</details>"
      ],
      "text/latex": [
       "\\begin{enumerate*}\n",
       "\\item S\n",
       "\\item L\n",
       "\\item M\n",
       "\\item L\n",
       "\\item S\n",
       "\\item M\n",
       "\\end{enumerate*}\n",
       "\n",
       "\\emph{Levels}: \\begin{enumerate*}\n",
       "\\item 'XS'\n",
       "\\item 'S'\n",
       "\\item 'M'\n",
       "\\item 'L'\n",
       "\\item 'ExtraL'\n",
       "\\end{enumerate*}\n"
      ],
      "text/markdown": [
       "1. S\n",
       "2. L\n",
       "3. M\n",
       "4. L\n",
       "5. S\n",
       "6. M\n",
       "\n",
       "\n",
       "\n",
       "**Levels**: 1. 'XS'\n",
       "2. 'S'\n",
       "3. 'M'\n",
       "4. 'L'\n",
       "5. 'ExtraL'\n",
       "\n",
       "\n"
      ],
      "text/plain": [
       "[1] S L M L S M\n",
       "Levels: XS < S < M < L < ExtraL"
      ]
     },
     "metadata": {},
     "output_type": "display_data"
    }
   ],
   "source": [
    "# Cambiar/re-nombrar niveles\n",
    "levels(size_factor)[5] <- 'ExtraL'\n",
    "size_factor"
   ]
  },
  {
   "cell_type": "code",
   "execution_count": 24,
   "metadata": {},
   "outputs": [
    {
     "data": {
      "text/html": [
       "<ol class=list-inline>\n",
       "\t<li>S</li>\n",
       "\t<li>L</li>\n",
       "\t<li>M</li>\n",
       "\t<li>L</li>\n",
       "\t<li>S</li>\n",
       "\t<li>M</li>\n",
       "</ol>\n",
       "\n",
       "<details>\n",
       "\t<summary style=display:list-item;cursor:pointer>\n",
       "\t\t<strong>Levels</strong>:\n",
       "\t</summary>\n",
       "\t<ol class=list-inline>\n",
       "\t\t<li>'S'</li>\n",
       "\t\t<li>'M'</li>\n",
       "\t\t<li>'L'</li>\n",
       "\t</ol>\n",
       "</details>"
      ],
      "text/latex": [
       "\\begin{enumerate*}\n",
       "\\item S\n",
       "\\item L\n",
       "\\item M\n",
       "\\item L\n",
       "\\item S\n",
       "\\item M\n",
       "\\end{enumerate*}\n",
       "\n",
       "\\emph{Levels}: \\begin{enumerate*}\n",
       "\\item 'S'\n",
       "\\item 'M'\n",
       "\\item 'L'\n",
       "\\end{enumerate*}\n"
      ],
      "text/markdown": [
       "1. S\n",
       "2. L\n",
       "3. M\n",
       "4. L\n",
       "5. S\n",
       "6. M\n",
       "\n",
       "\n",
       "\n",
       "**Levels**: 1. 'S'\n",
       "2. 'M'\n",
       "3. 'L'\n",
       "\n",
       "\n"
      ],
      "text/plain": [
       "[1] S L M L S M\n",
       "Levels: S < M < L"
      ]
     },
     "metadata": {},
     "output_type": "display_data"
    }
   ],
   "source": [
    "# Eliminar niveles no utilizados\n",
    "size_factor <- size_factor[drop = TRUE]\n",
    "droplevels(size_factor)"
   ]
  },
  {
   "cell_type": "code",
   "execution_count": 25,
   "metadata": {},
   "outputs": [],
   "source": [
    "# Unir factores\n",
    "a <- factor(1:10)\n",
    "b <- factor(letters[a])\n",
    "union <- factor(c(as.character(a), as.character(b)))\n",
    "cross <- interaction(a, b)\n",
    "# ambos producen un conjunto no-ordenado de factors.\n",
    "# levels: union: 20; cross: 100\n",
    "# Items: union: 20; cross: 10"
   ]
  },
  {
   "attachments": {},
   "cell_type": "markdown",
   "metadata": {},
   "source": [
    "### Información sobre factores"
   ]
  },
  {
   "attachments": {
    "image.png": {
     "image/png": "[encoded data removed]"
    }
   },
   "cell_type": "markdown",
   "metadata": {},
   "source": [
    "![image.png](attachment:image.png)"
   ]
  },
  {
   "attachments": {},
   "cell_type": "markdown",
   "metadata": {},
   "source": [
    "### Traps sobre factores\n",
    "\n",
    "Al leer ficheros con datasets las cadenas de caracteres se convierten automáticamente a\n",
    "factores. Al utilizar `read.table` y `read.csv` usar el parámetro `stringsAsFactors = FALSE`.\n",
    "\n",
    "Si los números de un fichero se factorizan se puede revertir con:  `as.numeric(levels(f))[as.integer(f)]`\n",
    "\n",
    "Evitar NA’s en factores, suelen causar problemas.\n",
    "\n",
    "La coerción de un objeto a factor suele ser una fuente de problemas."
   ]
  },
  {
   "cell_type": "code",
   "execution_count": 38,
   "metadata": {},
   "outputs": [],
   "source": [
    "f <- factor(c(1,20,3,2,1,3,1,2,2,2,1))"
   ]
  },
  {
   "cell_type": "code",
   "execution_count": 45,
   "metadata": {},
   "outputs": [
    {
     "data": {
      "text/html": [
       "<ol class=list-inline>\n",
       "\t<li>1</li>\n",
       "\t<li>20</li>\n",
       "\t<li>3</li>\n",
       "\t<li>2</li>\n",
       "\t<li>1</li>\n",
       "\t<li>3</li>\n",
       "\t<li>1</li>\n",
       "\t<li>2</li>\n",
       "\t<li>2</li>\n",
       "\t<li>2</li>\n",
       "\t<li>1</li>\n",
       "</ol>\n"
      ],
      "text/latex": [
       "\\begin{enumerate*}\n",
       "\\item 1\n",
       "\\item 20\n",
       "\\item 3\n",
       "\\item 2\n",
       "\\item 1\n",
       "\\item 3\n",
       "\\item 1\n",
       "\\item 2\n",
       "\\item 2\n",
       "\\item 2\n",
       "\\item 1\n",
       "\\end{enumerate*}\n"
      ],
      "text/markdown": [
       "1. 1\n",
       "2. 20\n",
       "3. 3\n",
       "4. 2\n",
       "5. 1\n",
       "6. 3\n",
       "7. 1\n",
       "8. 2\n",
       "9. 2\n",
       "10. 2\n",
       "11. 1\n",
       "\n",
       "\n"
      ],
      "text/plain": [
       " [1]  1 20  3  2  1  3  1  2  2  2  1"
      ]
     },
     "metadata": {},
     "output_type": "display_data"
    }
   ],
   "source": [
    "as.numeric(levels(f))[as.integer(f)]"
   ]
  },
  {
   "cell_type": "code",
   "execution_count": 46,
   "metadata": {},
   "outputs": [
    {
     "data": {
      "text/html": [
       "<ol class=list-inline>\n",
       "\t<li>1</li>\n",
       "\t<li>4</li>\n",
       "\t<li>3</li>\n",
       "\t<li>2</li>\n",
       "\t<li>1</li>\n",
       "\t<li>3</li>\n",
       "\t<li>1</li>\n",
       "\t<li>2</li>\n",
       "\t<li>2</li>\n",
       "\t<li>2</li>\n",
       "\t<li>1</li>\n",
       "</ol>\n"
      ],
      "text/latex": [
       "\\begin{enumerate*}\n",
       "\\item 1\n",
       "\\item 4\n",
       "\\item 3\n",
       "\\item 2\n",
       "\\item 1\n",
       "\\item 3\n",
       "\\item 1\n",
       "\\item 2\n",
       "\\item 2\n",
       "\\item 2\n",
       "\\item 1\n",
       "\\end{enumerate*}\n"
      ],
      "text/markdown": [
       "1. 1\n",
       "2. 4\n",
       "3. 3\n",
       "4. 2\n",
       "5. 1\n",
       "6. 3\n",
       "7. 1\n",
       "8. 2\n",
       "9. 2\n",
       "10. 2\n",
       "11. 1\n",
       "\n",
       "\n"
      ],
      "text/plain": [
       " [1] 1 4 3 2 1 3 1 2 2 2 1"
      ]
     },
     "metadata": {},
     "output_type": "display_data"
    }
   ],
   "source": [
    "as.numeric(f)"
   ]
  },
  {
   "cell_type": "markdown",
   "metadata": {},
   "source": [
    "## Ejercicio 4"
   ]
  },
  {
   "cell_type": "code",
   "execution_count": 48,
   "metadata": {},
   "outputs": [],
   "source": [
    "###################################\n",
    "# Factores                        #\n",
    "###################################\n",
    "\n",
    "# Crea dos factores con los siguientes vectores\n",
    "#   1. El de animales no tiene orden\n",
    "#   2. El de temperatura tiene orden\n",
    "animals_vector <- c(\"Elephant\", \"Giraffe\", \"Donkey\", \"Horse\")\n",
    "temperature_vector <- c(\"High\", \"Low\", \"High\",\"Low\", \"Medium\")"
   ]
  },
  {
   "cell_type": "code",
   "execution_count": 49,
   "metadata": {},
   "outputs": [
    {
     "data": {
      "text/html": [
       "<ol class=list-inline>\n",
       "\t<li>Elephant</li>\n",
       "\t<li>Giraffe</li>\n",
       "\t<li>Donkey</li>\n",
       "\t<li>Horse</li>\n",
       "</ol>\n",
       "\n",
       "<details>\n",
       "\t<summary style=display:list-item;cursor:pointer>\n",
       "\t\t<strong>Levels</strong>:\n",
       "\t</summary>\n",
       "\t<ol class=list-inline>\n",
       "\t\t<li>'Donkey'</li>\n",
       "\t\t<li>'Elephant'</li>\n",
       "\t\t<li>'Giraffe'</li>\n",
       "\t\t<li>'Horse'</li>\n",
       "\t</ol>\n",
       "</details>"
      ],
      "text/latex": [
       "\\begin{enumerate*}\n",
       "\\item Elephant\n",
       "\\item Giraffe\n",
       "\\item Donkey\n",
       "\\item Horse\n",
       "\\end{enumerate*}\n",
       "\n",
       "\\emph{Levels}: \\begin{enumerate*}\n",
       "\\item 'Donkey'\n",
       "\\item 'Elephant'\n",
       "\\item 'Giraffe'\n",
       "\\item 'Horse'\n",
       "\\end{enumerate*}\n"
      ],
      "text/markdown": [
       "1. Elephant\n",
       "2. Giraffe\n",
       "3. Donkey\n",
       "4. Horse\n",
       "\n",
       "\n",
       "\n",
       "**Levels**: 1. 'Donkey'\n",
       "2. 'Elephant'\n",
       "3. 'Giraffe'\n",
       "4. 'Horse'\n",
       "\n",
       "\n"
      ],
      "text/plain": [
       "[1] Elephant Giraffe  Donkey   Horse   \n",
       "Levels: Donkey Elephant Giraffe Horse"
      ]
     },
     "metadata": {},
     "output_type": "display_data"
    },
    {
     "data": {
      "text/html": [
       "<ol class=list-inline>\n",
       "\t<li>High</li>\n",
       "\t<li>Low</li>\n",
       "\t<li>High</li>\n",
       "\t<li>Low</li>\n",
       "\t<li>Medium</li>\n",
       "</ol>\n",
       "\n",
       "<details>\n",
       "\t<summary style=display:list-item;cursor:pointer>\n",
       "\t\t<strong>Levels</strong>:\n",
       "\t</summary>\n",
       "\t<ol class=list-inline>\n",
       "\t\t<li>'Low'</li>\n",
       "\t\t<li>'Medium'</li>\n",
       "\t\t<li>'High'</li>\n",
       "\t</ol>\n",
       "</details>"
      ],
      "text/latex": [
       "\\begin{enumerate*}\n",
       "\\item High\n",
       "\\item Low\n",
       "\\item High\n",
       "\\item Low\n",
       "\\item Medium\n",
       "\\end{enumerate*}\n",
       "\n",
       "\\emph{Levels}: \\begin{enumerate*}\n",
       "\\item 'Low'\n",
       "\\item 'Medium'\n",
       "\\item 'High'\n",
       "\\end{enumerate*}\n"
      ],
      "text/markdown": [
       "1. High\n",
       "2. Low\n",
       "3. High\n",
       "4. Low\n",
       "5. Medium\n",
       "\n",
       "\n",
       "\n",
       "**Levels**: 1. 'Low'\n",
       "2. 'Medium'\n",
       "3. 'High'\n",
       "\n",
       "\n"
      ],
      "text/plain": [
       "[1] High   Low    High   Low    Medium\n",
       "Levels: Low < Medium < High"
      ]
     },
     "metadata": {},
     "output_type": "display_data"
    }
   ],
   "source": [
    "factor_animals_vector <- factor(animals_vector)\n",
    "factor_animals_vector\n",
    "factor_temperature_vector <- factor(temperature_vector, ordered = TRUE, levels = c(\"Low\", \"Medium\", \"High\"))\n",
    "factor_temperature_vector"
   ]
  },
  {
   "cell_type": "code",
   "execution_count": 50,
   "metadata": {},
   "outputs": [],
   "source": [
    "# Modifica los niveles del siguiente factor para que sean: \"Female\" y \"Male\"\n",
    "# Presta atención al orden en que lo estableces\n",
    "survey_vector <- c(\"M\", \"F\", \"F\", \"M\", \"M\")\n",
    "factor_survey_vector <- factor(survey_vector)"
   ]
  },
  {
   "cell_type": "code",
   "execution_count": 51,
   "metadata": {},
   "outputs": [
    {
     "data": {
      "text/html": [
       "<ol class=list-inline>\n",
       "\t<li>Male</li>\n",
       "\t<li>Female</li>\n",
       "\t<li>Female</li>\n",
       "\t<li>Male</li>\n",
       "\t<li>Male</li>\n",
       "</ol>\n",
       "\n",
       "<details>\n",
       "\t<summary style=display:list-item;cursor:pointer>\n",
       "\t\t<strong>Levels</strong>:\n",
       "\t</summary>\n",
       "\t<ol class=list-inline>\n",
       "\t\t<li>'Female'</li>\n",
       "\t\t<li>'Male'</li>\n",
       "\t</ol>\n",
       "</details>"
      ],
      "text/latex": [
       "\\begin{enumerate*}\n",
       "\\item Male\n",
       "\\item Female\n",
       "\\item Female\n",
       "\\item Male\n",
       "\\item Male\n",
       "\\end{enumerate*}\n",
       "\n",
       "\\emph{Levels}: \\begin{enumerate*}\n",
       "\\item 'Female'\n",
       "\\item 'Male'\n",
       "\\end{enumerate*}\n"
      ],
      "text/markdown": [
       "1. Male\n",
       "2. Female\n",
       "3. Female\n",
       "4. Male\n",
       "5. Male\n",
       "\n",
       "\n",
       "\n",
       "**Levels**: 1. 'Female'\n",
       "2. 'Male'\n",
       "\n",
       "\n"
      ],
      "text/plain": [
       "[1] Male   Female Female Male   Male  \n",
       "Levels: Female Male"
      ]
     },
     "metadata": {},
     "output_type": "display_data"
    }
   ],
   "source": [
    "levels(factor_survey_vector) <- c(\"Female\", \"Male\")\n",
    "\n",
    "factor_survey_vector"
   ]
  },
  {
   "cell_type": "code",
   "execution_count": 53,
   "metadata": {},
   "outputs": [
    {
     "data": {
      "text/plain": [
       "   Length     Class      Mode \n",
       "        5 character character "
      ]
     },
     "metadata": {},
     "output_type": "display_data"
    }
   ],
   "source": [
    "# Haz summary sobre el vector y sobre el factor\n",
    "summary(survey_vector)"
   ]
  },
  {
   "cell_type": "code",
   "execution_count": 54,
   "metadata": {},
   "outputs": [
    {
     "data": {
      "text/html": [
       "<dl class=dl-horizontal>\n",
       "\t<dt>Female</dt>\n",
       "\t\t<dd>2</dd>\n",
       "\t<dt>Male</dt>\n",
       "\t\t<dd>3</dd>\n",
       "</dl>\n"
      ],
      "text/latex": [
       "\\begin{description*}\n",
       "\\item[Female] 2\n",
       "\\item[Male] 3\n",
       "\\end{description*}\n"
      ],
      "text/markdown": [
       "Female\n",
       ":   2Male\n",
       ":   3\n",
       "\n"
      ],
      "text/plain": [
       "Female   Male \n",
       "     2      3 "
      ]
     },
     "metadata": {},
     "output_type": "display_data"
    }
   ],
   "source": [
    "summary(factor_survey_vector)"
   ]
  },
  {
   "cell_type": "code",
   "execution_count": 55,
   "metadata": {},
   "outputs": [
    {
     "name": "stderr",
     "output_type": "stream",
     "text": [
      "Warning message in Ops.factor(factor_survey_vector[1], factor_survey_vector[2]):\n",
      "\"'>' not meaningful for factors\""
     ]
    },
    {
     "data": {
      "text/html": [
       "&lt;NA&gt;"
      ],
      "text/latex": [
       "<NA>"
      ],
      "text/markdown": [
       "&lt;NA&gt;"
      ],
      "text/plain": [
       "[1] NA"
      ]
     },
     "metadata": {},
     "output_type": "display_data"
    }
   ],
   "source": [
    "# Batalla de sexos: ¿Male '>' qué female?\n",
    "factor_survey_vector[1] > factor_survey_vector[2] "
   ]
  },
  {
   "cell_type": "code",
   "execution_count": 58,
   "metadata": {},
   "outputs": [
    {
     "data": {
      "text/html": [
       "<ol class=list-inline>\n",
       "\t<li>Fast</li>\n",
       "\t<li>Slow</li>\n",
       "\t<li>Slow</li>\n",
       "\t<li>Fast</li>\n",
       "\t<li>Ultra-fast</li>\n",
       "</ol>\n",
       "\n",
       "<details>\n",
       "\t<summary style=display:list-item;cursor:pointer>\n",
       "\t\t<strong>Levels</strong>:\n",
       "\t</summary>\n",
       "\t<ol class=list-inline>\n",
       "\t\t<li>'Slow'</li>\n",
       "\t\t<li>'Fast'</li>\n",
       "\t\t<li>'Ultra-fast'</li>\n",
       "\t</ol>\n",
       "</details>"
      ],
      "text/latex": [
       "\\begin{enumerate*}\n",
       "\\item Fast\n",
       "\\item Slow\n",
       "\\item Slow\n",
       "\\item Fast\n",
       "\\item Ultra-fast\n",
       "\\end{enumerate*}\n",
       "\n",
       "\\emph{Levels}: \\begin{enumerate*}\n",
       "\\item 'Slow'\n",
       "\\item 'Fast'\n",
       "\\item 'Ultra-fast'\n",
       "\\end{enumerate*}\n"
      ],
      "text/markdown": [
       "1. Fast\n",
       "2. Slow\n",
       "3. Slow\n",
       "4. Fast\n",
       "5. Ultra-fast\n",
       "\n",
       "\n",
       "\n",
       "**Levels**: 1. 'Slow'\n",
       "2. 'Fast'\n",
       "3. 'Ultra-fast'\n",
       "\n",
       "\n"
      ],
      "text/plain": [
       "[1] Fast       Slow       Slow       Fast       Ultra-fast\n",
       "Levels: Slow < Fast < Ultra-fast"
      ]
     },
     "metadata": {},
     "output_type": "display_data"
    }
   ],
   "source": [
    "# Crea un factor ordenado para el siguiente vector\n",
    "speed_vector <- c(\"Fast\", \"Slow\", \"Slow\", \"Fast\", \"Ultra-fast\")\n",
    "\n",
    "factor_speed_vector <-  factor(speed_vector, ordered = TRUE, levels = c(\"Slow\", \"Fast\", \"Ultra-fast\"))\n",
    "\n",
    "factor_speed_vector"
   ]
  },
  {
   "cell_type": "code",
   "execution_count": 59,
   "metadata": {},
   "outputs": [
    {
     "data": {
      "text/html": [
       "<dl class=dl-horizontal>\n",
       "\t<dt>Slow</dt>\n",
       "\t\t<dd>2</dd>\n",
       "\t<dt>Fast</dt>\n",
       "\t\t<dd>2</dd>\n",
       "\t<dt>Ultra-fast</dt>\n",
       "\t\t<dd>1</dd>\n",
       "</dl>\n"
      ],
      "text/latex": [
       "\\begin{description*}\n",
       "\\item[Slow] 2\n",
       "\\item[Fast] 2\n",
       "\\item[Ultra-fast] 1\n",
       "\\end{description*}\n"
      ],
      "text/markdown": [
       "Slow\n",
       ":   2Fast\n",
       ":   2Ultra-fast\n",
       ":   1\n",
       "\n"
      ],
      "text/plain": [
       "      Slow       Fast Ultra-fast \n",
       "         2          2          1 "
      ]
     },
     "metadata": {},
     "output_type": "display_data"
    },
    {
     "data": {
      "text/html": [
       "FALSE"
      ],
      "text/latex": [
       "FALSE"
      ],
      "text/markdown": [
       "FALSE"
      ],
      "text/plain": [
       "[1] FALSE"
      ]
     },
     "metadata": {},
     "output_type": "display_data"
    }
   ],
   "source": [
    "summary(factor_speed_vector) \n",
    "\n",
    "# Comprueba si la segunda muestra de tus datos es mayor que la quinta\n",
    "factor_speed_vector[2] > factor_speed_vector[5]"
   ]
  },
  {
   "cell_type": "code",
   "execution_count": null,
   "metadata": {},
   "outputs": [],
   "source": []
  }
 ],
 "metadata": {
  "kernelspec": {
   "display_name": "R",
   "language": "R",
   "name": "ir"
  },
  "language_info": {
   "codemirror_mode": "r",
   "file_extension": ".r",
   "mimetype": "text/x-r-source",
   "name": "R",
   "pygments_lexer": "r",
   "version": "3.5.1"
  }
 },
 "nbformat": 4,
 "nbformat_minor": 2
}
