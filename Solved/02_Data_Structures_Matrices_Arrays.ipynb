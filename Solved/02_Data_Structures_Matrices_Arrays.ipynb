{
 "cells": [
  {
   "cell_type": "markdown",
   "metadata": {},
   "source": [
    "# Estructuras de datos en ![](https://www.r-project.org/Rlogo.png)\n",
    "\n"
   ]
  },
  {
   "attachments": {},
   "cell_type": "markdown",
   "metadata": {},
   "source": [
    "## Matrices (matrix)\n",
    "\n",
    "Las matrices son arrays de dos dimensiones, los cuales contienen elementos del mismo tipo.\n",
    "Se organizan en filas y columnas.\n",
    "\n",
    "La manera más simple de crear una matriz es utilizando la función `matrix(data, nrow, ncol,  byrow)`.\n",
    "\n",
    " + `data`: vector con los valores de la matriz.\n",
    " + `nrow`: número de filas deseadas.\n",
    " + `ncol`: número de columnas deseadas.\n",
    " + `byrow`: define si la matriz se llena por filas o por columnas.\n",
    "\n",
    "Igual que en los vectores, podremos dar nombres tanto a las filas como a las columnas con  las funciones `rownames(m)` y `colnames(m)`, respectivamente."
   ]
  },
  {
   "attachments": {},
   "cell_type": "markdown",
   "metadata": {},
   "source": [
    "### Creación de matrices"
   ]
  },
  {
   "cell_type": "code",
   "execution_count": 1,
   "metadata": {},
   "outputs": [
    {
     "data": {
      "text/html": [
       "<table>\n",
       "<tbody>\n",
       "\t<tr><td>1</td><td>2</td><td>3</td></tr>\n",
       "\t<tr><td>4</td><td>5</td><td>6</td></tr>\n",
       "\t<tr><td>7</td><td>8</td><td>9</td></tr>\n",
       "</tbody>\n",
       "</table>\n"
      ],
      "text/latex": [
       "\\begin{tabular}{lll}\n",
       "\t 1 & 2 & 3\\\\\n",
       "\t 4 & 5 & 6\\\\\n",
       "\t 7 & 8 & 9\\\\\n",
       "\\end{tabular}\n"
      ],
      "text/markdown": [
       "\n",
       "| 1 | 2 | 3 | \n",
       "| 4 | 5 | 6 | \n",
       "| 7 | 8 | 9 | \n",
       "\n",
       "\n"
      ],
      "text/plain": [
       "     [,1] [,2] [,3]\n",
       "[1,] 1    2    3   \n",
       "[2,] 4    5    6   \n",
       "[3,] 7    8    9   "
      ]
     },
     "metadata": {},
     "output_type": "display_data"
    }
   ],
   "source": [
    "###################################\n",
    "# Matrices: Creación              #\n",
    "###################################\n",
    "\n",
    "m1 <- matrix(1:9, byrow = TRUE, nrow = 3)\n",
    "m1"
   ]
  },
  {
   "cell_type": "code",
   "execution_count": 2,
   "metadata": {},
   "outputs": [
    {
     "data": {
      "text/html": [
       "<table>\n",
       "<tbody>\n",
       "\t<tr><td> 0</td></tr>\n",
       "\t<tr><td>-1</td></tr>\n",
       "\t<tr><td> 4</td></tr>\n",
       "</tbody>\n",
       "</table>\n"
      ],
      "text/latex": [
       "\\begin{tabular}{l}\n",
       "\t  0\\\\\n",
       "\t -1\\\\\n",
       "\t  4\\\\\n",
       "\\end{tabular}\n"
      ],
      "text/markdown": [
       "\n",
       "|  0 | \n",
       "| -1 | \n",
       "|  4 | \n",
       "\n",
       "\n"
      ],
      "text/plain": [
       "     [,1]\n",
       "[1,]  0  \n",
       "[2,] -1  \n",
       "[3,]  4  "
      ]
     },
     "metadata": {},
     "output_type": "display_data"
    }
   ],
   "source": [
    "m2 <- matrix(c(0, -1, 4)) # Crea una matriz con una columna\n",
    "m2"
   ]
  },
  {
   "cell_type": "code",
   "execution_count": 3,
   "metadata": {},
   "outputs": [
    {
     "data": {
      "text/html": [
       "<table>\n",
       "<tbody>\n",
       "\t<tr><td>1</td><td>0</td><td>0</td></tr>\n",
       "\t<tr><td>0</td><td>1</td><td>0</td></tr>\n",
       "\t<tr><td>0</td><td>0</td><td>1</td></tr>\n",
       "</tbody>\n",
       "</table>\n"
      ],
      "text/latex": [
       "\\begin{tabular}{lll}\n",
       "\t 1 & 0 & 0\\\\\n",
       "\t 0 & 1 & 0\\\\\n",
       "\t 0 & 0 & 1\\\\\n",
       "\\end{tabular}\n"
      ],
      "text/markdown": [
       "\n",
       "| 1 | 0 | 0 | \n",
       "| 0 | 1 | 0 | \n",
       "| 0 | 0 | 1 | \n",
       "\n",
       "\n"
      ],
      "text/plain": [
       "     [,1] [,2] [,3]\n",
       "[1,] 1    0    0   \n",
       "[2,] 0    1    0   \n",
       "[3,] 0    0    1   "
      ]
     },
     "metadata": {},
     "output_type": "display_data"
    }
   ],
   "source": [
    "d1 <- diag(3) # Crea una matriz diagonal 3x3\n",
    "d1"
   ]
  },
  {
   "cell_type": "code",
   "execution_count": 4,
   "metadata": {},
   "outputs": [
    {
     "data": {
      "text/html": [
       "<table>\n",
       "<tbody>\n",
       "\t<tr><td>1</td><td>0</td><td>0</td></tr>\n",
       "\t<tr><td>0</td><td>2</td><td>0</td></tr>\n",
       "\t<tr><td>0</td><td>0</td><td>3</td></tr>\n",
       "</tbody>\n",
       "</table>\n"
      ],
      "text/latex": [
       "\\begin{tabular}{lll}\n",
       "\t 1 & 0 & 0\\\\\n",
       "\t 0 & 2 & 0\\\\\n",
       "\t 0 & 0 & 3\\\\\n",
       "\\end{tabular}\n"
      ],
      "text/markdown": [
       "\n",
       "| 1 | 0 | 0 | \n",
       "| 0 | 2 | 0 | \n",
       "| 0 | 0 | 3 | \n",
       "\n",
       "\n"
      ],
      "text/plain": [
       "     [,1] [,2] [,3]\n",
       "[1,] 1    0    0   \n",
       "[2,] 0    2    0   \n",
       "[3,] 0    0    3   "
      ]
     },
     "metadata": {},
     "output_type": "display_data"
    }
   ],
   "source": [
    "d2 <- diag(c(1, 2, 3)) # Crea una matriz diagonal y asigna el vector como diagonal\n",
    "d2"
   ]
  },
  {
   "cell_type": "code",
   "execution_count": 5,
   "metadata": {},
   "outputs": [],
   "source": [
    "t_m1 <- t(m1) # Traspuesta de m1\n",
    "e <- eigen(m1) # Lista con autovalores y autovectores\n",
    "d <- det(m1) # Determinante de la matriz"
   ]
  },
  {
   "attachments": {},
   "cell_type": "markdown",
   "metadata": {},
   "source": [
    "### Operaciones sobre matrices"
   ]
  },
  {
   "attachments": {},
   "cell_type": "markdown",
   "metadata": {},
   "source": [
    "Podemos realizar operaciones aritméticas con matrices (sumas, restas, multiplicaciones…)\n",
    "de manera similar a como hemos hecho con los vectores."
   ]
  },
  {
   "cell_type": "code",
   "execution_count": 8,
   "metadata": {},
   "outputs": [
    {
     "data": {
      "text/html": [
       "<table>\n",
       "<tbody>\n",
       "\t<tr><td>12</td><td>14</td><td>16</td></tr>\n",
       "\t<tr><td>18</td><td>20</td><td>22</td></tr>\n",
       "\t<tr><td>24</td><td>26</td><td>28</td></tr>\n",
       "</tbody>\n",
       "</table>\n"
      ],
      "text/latex": [
       "\\begin{tabular}{lll}\n",
       "\t 12 & 14 & 16\\\\\n",
       "\t 18 & 20 & 22\\\\\n",
       "\t 24 & 26 & 28\\\\\n",
       "\\end{tabular}\n"
      ],
      "text/markdown": [
       "\n",
       "| 12 | 14 | 16 | \n",
       "| 18 | 20 | 22 | \n",
       "| 24 | 26 | 28 | \n",
       "\n",
       "\n"
      ],
      "text/plain": [
       "     [,1] [,2] [,3]\n",
       "[1,] 12   14   16  \n",
       "[2,] 18   20   22  \n",
       "[3,] 24   26   28  "
      ]
     },
     "metadata": {},
     "output_type": "display_data"
    }
   ],
   "source": [
    "###################################\n",
    "# Matrices: Operaciones           #\n",
    "###################################\n",
    "\n",
    "a_matrix <- matrix(1:9, byrow = TRUE, nrow = 3)\n",
    "b_matrix <- matrix(11:19, byrow = TRUE, nrow = 3)\n",
    "\n",
    "total_matrix <- a_matrix + b_matrix\n",
    "total_matrix"
   ]
  },
  {
   "attachments": {},
   "cell_type": "markdown",
   "metadata": {},
   "source": [
    "Igual que hicimos con los vectores, podemos realizar la misma operación sobre todos los  elementos de la matriz. En este caso, R creará una matriz auxiliar con las mismas  dimensiones que la matriz original."
   ]
  },
  {
   "cell_type": "code",
   "execution_count": 9,
   "metadata": {},
   "outputs": [
    {
     "data": {
      "text/html": [
       "<table>\n",
       "<tbody>\n",
       "\t<tr><td>3 </td><td> 4</td><td> 5</td></tr>\n",
       "\t<tr><td>6 </td><td> 7</td><td> 8</td></tr>\n",
       "\t<tr><td>9 </td><td>10</td><td>11</td></tr>\n",
       "</tbody>\n",
       "</table>\n"
      ],
      "text/latex": [
       "\\begin{tabular}{lll}\n",
       "\t 3  &  4 &  5\\\\\n",
       "\t 6  &  7 &  8\\\\\n",
       "\t 9  & 10 & 11\\\\\n",
       "\\end{tabular}\n"
      ],
      "text/markdown": [
       "\n",
       "| 3  |  4 |  5 | \n",
       "| 6  |  7 |  8 | \n",
       "| 9  | 10 | 11 | \n",
       "\n",
       "\n"
      ],
      "text/plain": [
       "     [,1] [,2] [,3]\n",
       "[1,] 3     4    5  \n",
       "[2,] 6     7    8  \n",
       "[3,] 9    10   11  "
      ]
     },
     "metadata": {},
     "output_type": "display_data"
    }
   ],
   "source": [
    "total_matrix <- a_matrix + 2\n",
    "total_matrix"
   ]
  },
  {
   "attachments": {},
   "cell_type": "markdown",
   "metadata": {},
   "source": [
    "También aplicaremos funciones a una matriz. Por ejemplo: `rowSums(m); colSums(m); rowMeans(m); colMeans(m)`"
   ]
  },
  {
   "cell_type": "code",
   "execution_count": 10,
   "metadata": {},
   "outputs": [
    {
     "data": {
      "text/html": [
       "<ol class=list-inline>\n",
       "\t<li>12</li>\n",
       "\t<li>21</li>\n",
       "\t<li>30</li>\n",
       "</ol>\n"
      ],
      "text/latex": [
       "\\begin{enumerate*}\n",
       "\\item 12\n",
       "\\item 21\n",
       "\\item 30\n",
       "\\end{enumerate*}\n"
      ],
      "text/markdown": [
       "1. 12\n",
       "2. 21\n",
       "3. 30\n",
       "\n",
       "\n"
      ],
      "text/plain": [
       "[1] 12 21 30"
      ]
     },
     "metadata": {},
     "output_type": "display_data"
    },
    {
     "data": {
      "text/html": [
       "<ol class=list-inline>\n",
       "\t<li>6</li>\n",
       "\t<li>7</li>\n",
       "\t<li>8</li>\n",
       "</ol>\n"
      ],
      "text/latex": [
       "\\begin{enumerate*}\n",
       "\\item 6\n",
       "\\item 7\n",
       "\\item 8\n",
       "\\end{enumerate*}\n"
      ],
      "text/markdown": [
       "1. 6\n",
       "2. 7\n",
       "3. 8\n",
       "\n",
       "\n"
      ],
      "text/plain": [
       "[1] 6 7 8"
      ]
     },
     "metadata": {},
     "output_type": "display_data"
    },
    {
     "data": {
      "text/html": [
       "11"
      ],
      "text/latex": [
       "11"
      ],
      "text/markdown": [
       "11"
      ],
      "text/plain": [
       "[1] 11"
      ]
     },
     "metadata": {},
     "output_type": "display_data"
    }
   ],
   "source": [
    "rowSums(total_matrix)\n",
    "colMeans(total_matrix)\n",
    "max(total_matrix)"
   ]
  },
  {
   "attachments": {},
   "cell_type": "markdown",
   "metadata": {},
   "source": [
    "### Manipulación de matrices"
   ]
  },
  {
   "attachments": {},
   "cell_type": "markdown",
   "metadata": {},
   "source": [
    "Para añadir columnas a una matriz se utiliza la función `cbind(m1, m2, …)`, la cual une\n",
    "matrices y/o vectores por columna."
   ]
  },
  {
   "cell_type": "code",
   "execution_count": 11,
   "metadata": {},
   "outputs": [
    {
     "data": {
      "text/html": [
       "<table>\n",
       "<tbody>\n",
       "\t<tr><td>1 </td><td>2 </td><td>3 </td><td>11</td><td>12</td><td>13</td></tr>\n",
       "\t<tr><td>4 </td><td>5 </td><td>6 </td><td>14</td><td>15</td><td>16</td></tr>\n",
       "\t<tr><td>7 </td><td>8 </td><td>9 </td><td>17</td><td>18</td><td>19</td></tr>\n",
       "</tbody>\n",
       "</table>\n"
      ],
      "text/latex": [
       "\\begin{tabular}{llllll}\n",
       "\t 1  & 2  & 3  & 11 & 12 & 13\\\\\n",
       "\t 4  & 5  & 6  & 14 & 15 & 16\\\\\n",
       "\t 7  & 8  & 9  & 17 & 18 & 19\\\\\n",
       "\\end{tabular}\n"
      ],
      "text/markdown": [
       "\n",
       "| 1  | 2  | 3  | 11 | 12 | 13 | \n",
       "| 4  | 5  | 6  | 14 | 15 | 16 | \n",
       "| 7  | 8  | 9  | 17 | 18 | 19 | \n",
       "\n",
       "\n"
      ],
      "text/plain": [
       "     [,1] [,2] [,3] [,4] [,5] [,6]\n",
       "[1,] 1    2    3    11   12   13  \n",
       "[2,] 4    5    6    14   15   16  \n",
       "[3,] 7    8    9    17   18   19  "
      ]
     },
     "metadata": {},
     "output_type": "display_data"
    }
   ],
   "source": [
    "###################################\n",
    "# Matrices: Manipulación          #\n",
    "###################################\n",
    "\n",
    "# Unión de matrices por columnas\n",
    "big_matrix_2 <- cbind(a_matrix, b_matrix)\n",
    "big_matrix_2"
   ]
  },
  {
   "cell_type": "code",
   "execution_count": 12,
   "metadata": {},
   "outputs": [
    {
     "data": {
      "text/html": [
       "<table>\n",
       "<tbody>\n",
       "\t<tr><td>1 </td><td>2 </td><td>3 </td><td>11</td><td>12</td><td>13</td><td>1 </td></tr>\n",
       "\t<tr><td>4 </td><td>5 </td><td>6 </td><td>14</td><td>15</td><td>16</td><td>5 </td></tr>\n",
       "\t<tr><td>7 </td><td>8 </td><td>9 </td><td>17</td><td>18</td><td>19</td><td>6 </td></tr>\n",
       "</tbody>\n",
       "</table>\n"
      ],
      "text/latex": [
       "\\begin{tabular}{lllllll}\n",
       "\t 1  & 2  & 3  & 11 & 12 & 13 & 1 \\\\\n",
       "\t 4  & 5  & 6  & 14 & 15 & 16 & 5 \\\\\n",
       "\t 7  & 8  & 9  & 17 & 18 & 19 & 6 \\\\\n",
       "\\end{tabular}\n"
      ],
      "text/markdown": [
       "\n",
       "| 1  | 2  | 3  | 11 | 12 | 13 | 1  | \n",
       "| 4  | 5  | 6  | 14 | 15 | 16 | 5  | \n",
       "| 7  | 8  | 9  | 17 | 18 | 19 | 6  | \n",
       "\n",
       "\n"
      ],
      "text/plain": [
       "     [,1] [,2] [,3] [,4] [,5] [,6] [,7]\n",
       "[1,] 1    2    3    11   12   13   1   \n",
       "[2,] 4    5    6    14   15   16   5   \n",
       "[3,] 7    8    9    17   18   19   6   "
      ]
     },
     "metadata": {},
     "output_type": "display_data"
    }
   ],
   "source": [
    "# Unión de matriz y vector por columnas\n",
    "big_matrix_2 <- cbind(big_matrix_2, c(1, 5, 6))\n",
    "big_matrix_2"
   ]
  },
  {
   "attachments": {},
   "cell_type": "markdown",
   "metadata": {},
   "source": [
    "Para añadir filas a una matriz se utiliza la función `rbind(m1, m2, …)`, la cual une matrices y/o  vectores por fila."
   ]
  },
  {
   "cell_type": "code",
   "execution_count": 13,
   "metadata": {},
   "outputs": [
    {
     "data": {
      "text/html": [
       "<table>\n",
       "<tbody>\n",
       "\t<tr><td> 1</td><td> 2</td><td> 3</td></tr>\n",
       "\t<tr><td> 4</td><td> 5</td><td> 6</td></tr>\n",
       "\t<tr><td> 7</td><td> 8</td><td> 9</td></tr>\n",
       "\t<tr><td>11</td><td>12</td><td>13</td></tr>\n",
       "\t<tr><td>14</td><td>15</td><td>16</td></tr>\n",
       "\t<tr><td>17</td><td>18</td><td>19</td></tr>\n",
       "</tbody>\n",
       "</table>\n"
      ],
      "text/latex": [
       "\\begin{tabular}{lll}\n",
       "\t  1 &  2 &  3\\\\\n",
       "\t  4 &  5 &  6\\\\\n",
       "\t  7 &  8 &  9\\\\\n",
       "\t 11 & 12 & 13\\\\\n",
       "\t 14 & 15 & 16\\\\\n",
       "\t 17 & 18 & 19\\\\\n",
       "\\end{tabular}\n"
      ],
      "text/markdown": [
       "\n",
       "|  1 |  2 |  3 | \n",
       "|  4 |  5 |  6 | \n",
       "|  7 |  8 |  9 | \n",
       "| 11 | 12 | 13 | \n",
       "| 14 | 15 | 16 | \n",
       "| 17 | 18 | 19 | \n",
       "\n",
       "\n"
      ],
      "text/plain": [
       "     [,1] [,2] [,3]\n",
       "[1,]  1    2    3  \n",
       "[2,]  4    5    6  \n",
       "[3,]  7    8    9  \n",
       "[4,] 11   12   13  \n",
       "[5,] 14   15   16  \n",
       "[6,] 17   18   19  "
      ]
     },
     "metadata": {},
     "output_type": "display_data"
    }
   ],
   "source": [
    "# Unión de matrices por filas\n",
    "big_matrix_1 <- rbind(a_matrix, b_matrix)\n",
    "big_matrix_1"
   ]
  },
  {
   "cell_type": "code",
   "execution_count": 14,
   "metadata": {},
   "outputs": [
    {
     "data": {
      "text/html": [
       "<table>\n",
       "<tbody>\n",
       "\t<tr><td> 1</td><td> 2</td><td> 3</td></tr>\n",
       "\t<tr><td> 4</td><td> 5</td><td> 6</td></tr>\n",
       "\t<tr><td> 7</td><td> 8</td><td> 9</td></tr>\n",
       "\t<tr><td>11</td><td>12</td><td>13</td></tr>\n",
       "\t<tr><td>14</td><td>15</td><td>16</td></tr>\n",
       "\t<tr><td>17</td><td>18</td><td>19</td></tr>\n",
       "\t<tr><td> 1</td><td> 5</td><td> 6</td></tr>\n",
       "</tbody>\n",
       "</table>\n"
      ],
      "text/latex": [
       "\\begin{tabular}{lll}\n",
       "\t  1 &  2 &  3\\\\\n",
       "\t  4 &  5 &  6\\\\\n",
       "\t  7 &  8 &  9\\\\\n",
       "\t 11 & 12 & 13\\\\\n",
       "\t 14 & 15 & 16\\\\\n",
       "\t 17 & 18 & 19\\\\\n",
       "\t  1 &  5 &  6\\\\\n",
       "\\end{tabular}\n"
      ],
      "text/markdown": [
       "\n",
       "|  1 |  2 |  3 | \n",
       "|  4 |  5 |  6 | \n",
       "|  7 |  8 |  9 | \n",
       "| 11 | 12 | 13 | \n",
       "| 14 | 15 | 16 | \n",
       "| 17 | 18 | 19 | \n",
       "|  1 |  5 |  6 | \n",
       "\n",
       "\n"
      ],
      "text/plain": [
       "     [,1] [,2] [,3]\n",
       "[1,]  1    2    3  \n",
       "[2,]  4    5    6  \n",
       "[3,]  7    8    9  \n",
       "[4,] 11   12   13  \n",
       "[5,] 14   15   16  \n",
       "[6,] 17   18   19  \n",
       "[7,]  1    5    6  "
      ]
     },
     "metadata": {},
     "output_type": "display_data"
    }
   ],
   "source": [
    "# Unión de matriz y vector por filas\n",
    "big_matrix_1 <- rbind(big_matrix_1, c(1, 5, 6))\n",
    "big_matrix_1"
   ]
  },
  {
   "attachments": {},
   "cell_type": "markdown",
   "metadata": {},
   "source": [
    "### Indexación de matrices"
   ]
  },
  {
   "attachments": {},
   "cell_type": "markdown",
   "metadata": {},
   "source": [
    "Al igual que en los vectores, utilizaremos los corchetes `[ ]` para indexar matrices. En el caso  particular de las matrices usaremos dos números enteros: uno para la fila y otro para la  columna `[row, column]`.\n",
    "\n",
    "Para seleccionar todos los elementos de una fila o una columna, basta con no incluir ningún  número antes o después de la coma, respectivamente. Por ejemplo: `matrix[row, ]`; `matrix[, col]`."
   ]
  },
  {
   "cell_type": "code",
   "execution_count": 16,
   "metadata": {},
   "outputs": [
    {
     "data": {
      "text/html": [
       "<ol class=list-inline>\n",
       "\t<li>1</li>\n",
       "\t<li>2</li>\n",
       "\t<li>3</li>\n",
       "</ol>\n"
      ],
      "text/latex": [
       "\\begin{enumerate*}\n",
       "\\item 1\n",
       "\\item 2\n",
       "\\item 3\n",
       "\\end{enumerate*}\n"
      ],
      "text/markdown": [
       "1. 1\n",
       "2. 2\n",
       "3. 3\n",
       "\n",
       "\n"
      ],
      "text/plain": [
       "[1] 1 2 3"
      ]
     },
     "metadata": {},
     "output_type": "display_data"
    },
    {
     "data": {
      "text/html": [
       "<table>\n",
       "<tbody>\n",
       "\t<tr><td>1</td><td>2</td><td>3</td></tr>\n",
       "\t<tr><td>4</td><td>5</td><td>6</td></tr>\n",
       "</tbody>\n",
       "</table>\n"
      ],
      "text/latex": [
       "\\begin{tabular}{lll}\n",
       "\t 1 & 2 & 3\\\\\n",
       "\t 4 & 5 & 6\\\\\n",
       "\\end{tabular}\n"
      ],
      "text/markdown": [
       "\n",
       "| 1 | 2 | 3 | \n",
       "| 4 | 5 | 6 | \n",
       "\n",
       "\n"
      ],
      "text/plain": [
       "     [,1] [,2] [,3]\n",
       "[1,] 1    2    3   \n",
       "[2,] 4    5    6   "
      ]
     },
     "metadata": {},
     "output_type": "display_data"
    },
    {
     "data": {
      "text/html": [
       "<ol class=list-inline>\n",
       "\t<li>3</li>\n",
       "\t<li>6</li>\n",
       "\t<li>9</li>\n",
       "</ol>\n"
      ],
      "text/latex": [
       "\\begin{enumerate*}\n",
       "\\item 3\n",
       "\\item 6\n",
       "\\item 9\n",
       "\\end{enumerate*}\n"
      ],
      "text/markdown": [
       "1. 3\n",
       "2. 6\n",
       "3. 9\n",
       "\n",
       "\n"
      ],
      "text/plain": [
       "[1] 3 6 9"
      ]
     },
     "metadata": {},
     "output_type": "display_data"
    },
    {
     "data": {
      "text/html": [
       "<table>\n",
       "<tbody>\n",
       "\t<tr><td>1</td><td>3</td></tr>\n",
       "\t<tr><td>4</td><td>6</td></tr>\n",
       "\t<tr><td>7</td><td>9</td></tr>\n",
       "</tbody>\n",
       "</table>\n"
      ],
      "text/latex": [
       "\\begin{tabular}{ll}\n",
       "\t 1 & 3\\\\\n",
       "\t 4 & 6\\\\\n",
       "\t 7 & 9\\\\\n",
       "\\end{tabular}\n"
      ],
      "text/markdown": [
       "\n",
       "| 1 | 3 | \n",
       "| 4 | 6 | \n",
       "| 7 | 9 | \n",
       "\n",
       "\n"
      ],
      "text/plain": [
       "     [,1] [,2]\n",
       "[1,] 1    3   \n",
       "[2,] 4    6   \n",
       "[3,] 7    9   "
      ]
     },
     "metadata": {},
     "output_type": "display_data"
    }
   ],
   "source": [
    "###################################\n",
    "# Matrices: Indexación            #\n",
    "###################################\n",
    "m <- matrix(1:9, byrow = TRUE, nrow = 3)\n",
    "\n",
    "# Indexando con números positivos\n",
    "m[1, ] # Seleccionamos la primera fila\n",
    "m[1:2, ] # Seleccionamos las dos primeras filas\n",
    "m[, ncol(m)] # Seleccionamos la última columna\n",
    "m[, c(1, ncol(m))] # Seleccionamos la primera y la última columna\n",
    "m[1, ] <- 0 # Asigna un vector de ceros a la primera fila"
   ]
  },
  {
   "cell_type": "code",
   "execution_count": 17,
   "metadata": {},
   "outputs": [
    {
     "data": {
      "text/html": [
       "<table>\n",
       "<tbody>\n",
       "\t<tr><td>4</td><td>5</td><td>6</td></tr>\n",
       "\t<tr><td>7</td><td>8</td><td>9</td></tr>\n",
       "</tbody>\n",
       "</table>\n"
      ],
      "text/latex": [
       "\\begin{tabular}{lll}\n",
       "\t 4 & 5 & 6\\\\\n",
       "\t 7 & 8 & 9\\\\\n",
       "\\end{tabular}\n"
      ],
      "text/markdown": [
       "\n",
       "| 4 | 5 | 6 | \n",
       "| 7 | 8 | 9 | \n",
       "\n",
       "\n"
      ],
      "text/plain": [
       "     [,1] [,2] [,3]\n",
       "[1,] 4    5    6   \n",
       "[2,] 7    8    9   "
      ]
     },
     "metadata": {},
     "output_type": "display_data"
    },
    {
     "data": {
      "text/html": [
       "<table>\n",
       "<tbody>\n",
       "\t<tr><td>0</td><td>0</td></tr>\n",
       "\t<tr><td>4</td><td>5</td></tr>\n",
       "</tbody>\n",
       "</table>\n"
      ],
      "text/latex": [
       "\\begin{tabular}{ll}\n",
       "\t 0 & 0\\\\\n",
       "\t 4 & 5\\\\\n",
       "\\end{tabular}\n"
      ],
      "text/markdown": [
       "\n",
       "| 0 | 0 | \n",
       "| 4 | 5 | \n",
       "\n",
       "\n"
      ],
      "text/plain": [
       "     [,1] [,2]\n",
       "[1,] 0    0   \n",
       "[2,] 4    5   "
      ]
     },
     "metadata": {},
     "output_type": "display_data"
    }
   ],
   "source": [
    "# Indexando con números negativos\n",
    "m[-1, ] # Seleccionamos todas las filas menos la primera\n",
    "m[-nrow(m), -ncol(m)] # Quitamos la última fila y la última columna"
   ]
  },
  {
   "cell_type": "code",
   "execution_count": 18,
   "metadata": {},
   "outputs": [
    {
     "data": {
      "text/html": [
       "<ol class=list-inline>\n",
       "\t<li>0</li>\n",
       "\t<li>4</li>\n",
       "\t<li>7</li>\n",
       "\t<li>0</li>\n",
       "\t<li>6</li>\n",
       "\t<li>9</li>\n",
       "</ol>\n"
      ],
      "text/latex": [
       "\\begin{enumerate*}\n",
       "\\item 0\n",
       "\\item 4\n",
       "\\item 7\n",
       "\\item 0\n",
       "\\item 6\n",
       "\\item 9\n",
       "\\end{enumerate*}\n"
      ],
      "text/markdown": [
       "1. 0\n",
       "2. 4\n",
       "3. 7\n",
       "4. 0\n",
       "5. 6\n",
       "6. 9\n",
       "\n",
       "\n"
      ],
      "text/plain": [
       "[1] 0 4 7 0 6 9"
      ]
     },
     "metadata": {},
     "output_type": "display_data"
    },
    {
     "data": {
      "text/html": [
       "<ol class=list-inline>\n",
       "\t<li>8</li>\n",
       "\t<li>9</li>\n",
       "</ol>\n"
      ],
      "text/latex": [
       "\\begin{enumerate*}\n",
       "\\item 8\n",
       "\\item 9\n",
       "\\end{enumerate*}\n"
      ],
      "text/markdown": [
       "1. 8\n",
       "2. 9\n",
       "\n",
       "\n"
      ],
      "text/plain": [
       "[1] 8 9"
      ]
     },
     "metadata": {},
     "output_type": "display_data"
    },
    {
     "data": {
      "text/html": [
       "<ol class=list-inline>\n",
       "\t<li>0</li>\n",
       "\t<li>0</li>\n",
       "\t<li>0</li>\n",
       "</ol>\n"
      ],
      "text/latex": [
       "\\begin{enumerate*}\n",
       "\\item 0\n",
       "\\item 0\n",
       "\\item 0\n",
       "\\end{enumerate*}\n"
      ],
      "text/markdown": [
       "1. 0\n",
       "2. 0\n",
       "3. 0\n",
       "\n",
       "\n"
      ],
      "text/plain": [
       "[1] 0 0 0"
      ]
     },
     "metadata": {},
     "output_type": "display_data"
    }
   ],
   "source": [
    "# Indexando con vectores lógicos o expresiones booleanas\n",
    "m_selection <- matrix(c(TRUE, FALSE, TRUE, TRUE, FALSE, TRUE, TRUE, FALSE, TRUE), byrow = TRUE, nrow = 3)\n",
    "m[m_selection] # Seleccionamos en función de una matriz de booleanos\n",
    "m[m > 7] # Todos los > 7\n",
    "m[m == 0] # Todos los 0"
   ]
  },
  {
   "cell_type": "code",
   "execution_count": null,
   "metadata": {},
   "outputs": [],
   "source": [
    "# Indexando por nombre\n",
    "colnames(m) <- c(\"c1\", \"c2\", \"c3\")\n",
    "rownames(m) <- c(\"r1\", \"r2\", \"r3\")\n",
    "m[, c(\"c1\", \"c3\")] # Selección de columnas por nombre\n",
    "m[c(\"r2\", \"r3\"), c(\"c1\", \"c2\")] # Selección de filas y columnas por nombre"
   ]
  },
  {
   "attachments": {},
   "cell_type": "markdown",
   "metadata": {},
   "source": [
    "### Información sobre matrices"
   ]
  },
  {
   "attachments": {
    "image.png": {
     "image/png": "[encoded data removed]"
    }
   },
   "cell_type": "markdown",
   "metadata": {},
   "source": [
    "![image.png](attachment:image.png)"
   ]
  },
  {
   "attachments": {},
   "cell_type": "markdown",
   "metadata": {},
   "source": [
    "## Arrays (array)\n",
    "\n",
    "Para crear un array de más de dos dimensiones utilizaremos la función: `array(data, dim)`:\n",
    "+ `data`: vector con los valores que tendrá el array.\n",
    "+ `dim`: vector con las dimensiones del array.\n",
    "\n",
    "Los vectores y las matrices son casos especiales de arrays. Los vectores con una dimensión  y las matrices con dos."
   ]
  },
  {
   "cell_type": "code",
   "execution_count": 19,
   "metadata": {},
   "outputs": [
    {
     "data": {
      "text/html": [
       "<ol class=list-inline>\n",
       "\t<li>1</li>\n",
       "\t<li>2</li>\n",
       "\t<li>3</li>\n",
       "\t<li>4</li>\n",
       "\t<li>5</li>\n",
       "\t<li>6</li>\n",
       "\t<li>7</li>\n",
       "\t<li>8</li>\n",
       "</ol>\n"
      ],
      "text/latex": [
       "\\begin{enumerate*}\n",
       "\\item 1\n",
       "\\item 2\n",
       "\\item 3\n",
       "\\item 4\n",
       "\\item 5\n",
       "\\item 6\n",
       "\\item 7\n",
       "\\item 8\n",
       "\\end{enumerate*}\n"
      ],
      "text/markdown": [
       "1. 1\n",
       "2. 2\n",
       "3. 3\n",
       "4. 4\n",
       "5. 5\n",
       "6. 6\n",
       "7. 7\n",
       "8. 8\n",
       "\n",
       "\n"
      ],
      "text/plain": [
       ", , 1\n",
       "\n",
       "     [,1] [,2]\n",
       "[1,]    1    3\n",
       "[2,]    2    4\n",
       "\n",
       ", , 2\n",
       "\n",
       "     [,1] [,2]\n",
       "[1,]    5    7\n",
       "[2,]    6    8\n"
      ]
     },
     "metadata": {},
     "output_type": "display_data"
    },
    {
     "data": {
      "text/html": [
       "<table>\n",
       "<tbody>\n",
       "\t<tr><td>1</td><td>4</td><td>7</td></tr>\n",
       "\t<tr><td>2</td><td>5</td><td>8</td></tr>\n",
       "\t<tr><td>3</td><td>6</td><td>9</td></tr>\n",
       "</tbody>\n",
       "</table>\n"
      ],
      "text/latex": [
       "\\begin{tabular}{lll}\n",
       "\t 1 & 4 & 7\\\\\n",
       "\t 2 & 5 & 8\\\\\n",
       "\t 3 & 6 & 9\\\\\n",
       "\\end{tabular}\n"
      ],
      "text/markdown": [
       "\n",
       "| 1 | 4 | 7 | \n",
       "| 2 | 5 | 8 | \n",
       "| 3 | 6 | 9 | \n",
       "\n",
       "\n"
      ],
      "text/plain": [
       "     [,1] [,2] [,3]\n",
       "[1,] 1    4    7   \n",
       "[2,] 2    5    8   \n",
       "[3,] 3    6    9   "
      ]
     },
     "metadata": {},
     "output_type": "display_data"
    }
   ],
   "source": [
    "###################################\n",
    "# Arrays: Creación                #\n",
    "###################################\n",
    "\n",
    "a <- array(1:8, dim=c(2, 2, 2))\n",
    "a\n",
    "\n",
    "m <- array(1:9, dim=c(3, 3))\n",
    "m"
   ]
  },
  {
   "cell_type": "markdown",
   "metadata": {},
   "source": [
    "## Ejercicio 3"
   ]
  },
  {
   "cell_type": "code",
   "execution_count": 21,
   "metadata": {},
   "outputs": [],
   "source": [
    "###################################\n",
    "# Matrices                        #\n",
    "###################################\n",
    "\n",
    "# Los siguientes vectores contienen la recaudación de las tres primeras películas de Star Wars en US y fuera de US (non-US)\n",
    "new_hope <- c(461, 314.4)\n",
    "empire_strikes <- c(290.5, 247.9)\n",
    "return_jedi <- c(309.3, 165.8)"
   ]
  },
  {
   "cell_type": "code",
   "execution_count": 22,
   "metadata": {},
   "outputs": [],
   "source": [
    "# Crea una matriz que contenga toda la información (con tres filas)\n",
    "star_wars_matrix <- matrix(c(new_hope, empire_strikes, return_jedi), byrow=TRUE, nrow=3)"
   ]
  },
  {
   "cell_type": "code",
   "execution_count": 23,
   "metadata": {},
   "outputs": [],
   "source": [
    "# Ponles nombres a las columnas: \"US\" y \"non-US\"\n",
    "colnames(star_wars_matrix) <- c(\"US\", \"non-US\")"
   ]
  },
  {
   "cell_type": "code",
   "execution_count": 24,
   "metadata": {},
   "outputs": [],
   "source": [
    "# Ponles nombres a las filas: \"A New Hope\", \"The Empire Strikes Back\" y \"Return of the Jedi\"\n",
    "rownames(star_wars_matrix) <- c(\"A New Hope\", \"The Empire Strikes Back\", \"Return of the Jedi\")"
   ]
  },
  {
   "cell_type": "code",
   "execution_count": 25,
   "metadata": {},
   "outputs": [],
   "source": [
    "# Si el precio de la entrada es de 5$, estima el número de espectadores de cada película\n",
    "visitors <- star_wars_matrix / 5"
   ]
  },
  {
   "cell_type": "code",
   "execution_count": 26,
   "metadata": {},
   "outputs": [],
   "source": [
    "# Como el precio de las entradas no es el mismo todos los años, creamos una matriz de precios\n",
    "ticket_prices_matrix <- matrix(c(5, 5, 6, 6, 7, 7), nrow = 3, byrow = TRUE, dimnames = list(rownames(star_wars_matrix), colnames(star_wars_matrix)))"
   ]
  },
  {
   "cell_type": "code",
   "execution_count": 27,
   "metadata": {},
   "outputs": [],
   "source": [
    "# Repite el cálculo del número de espectadores con la matriz anterior\n",
    "visitors <- star_wars_matrix / ticket_prices_matrix"
   ]
  },
  {
   "cell_type": "code",
   "execution_count": 28,
   "metadata": {},
   "outputs": [],
   "source": [
    "# Calcula el numero de espectadores medio en US\n",
    "average_us_visitors <- mean(visitors[, 1])"
   ]
  },
  {
   "cell_type": "code",
   "execution_count": 29,
   "metadata": {},
   "outputs": [],
   "source": [
    "# Calcula el numero de espectadores medio fuera de US\n",
    "average_non_us_visitors <- mean(visitors[, 2])"
   ]
  },
  {
   "cell_type": "code",
   "execution_count": 30,
   "metadata": {},
   "outputs": [],
   "source": [
    "# Calcula los totales de recaudación por película\n",
    "worldwide_vector <- rowSums(star_wars_matrix)"
   ]
  },
  {
   "cell_type": "code",
   "execution_count": 31,
   "metadata": {},
   "outputs": [],
   "source": [
    "# Añade el vector anterior con los totales por película como una nueva columna de la matriz\n",
    "all_wars_matrix <- cbind(star_wars_matrix, worldwide_vector)"
   ]
  },
  {
   "cell_type": "code",
   "execution_count": 32,
   "metadata": {},
   "outputs": [],
   "source": [
    "# Crea una nueva matriz con las recaudaciones de las siguientes tres películas de Star Wars\n",
    "phantom_menace <- c(474.5, 552.5)"
   ]
  },
  {
   "cell_type": "code",
   "execution_count": 33,
   "metadata": {},
   "outputs": [],
   "source": [
    "# Crea una nueva matriz con las recaudaciones de las siguientes tres películas de Star Wars\n",
    "phantom_menace <- c(474.5, 552.5)\n",
    "attack_clones <- c(310.7, 338.7)\n",
    "revenge_sith <- c(380.3, 468.5)\n",
    "star_wars_matrix2 <- matrix(c(phantom_menace, attack_clones, revenge_sith), byrow=TRUE, nrow=3)"
   ]
  },
  {
   "cell_type": "code",
   "execution_count": 34,
   "metadata": {},
   "outputs": [],
   "source": [
    "# Ponles nombres a las columnas: \"US\" y \"non-US\"\n",
    "colnames(star_wars_matrix2) <- c(\"US\", \"non-US\")"
   ]
  },
  {
   "cell_type": "code",
   "execution_count": 35,
   "metadata": {},
   "outputs": [],
   "source": [
    "# Ponles nombres a las filas: \"The Phantom Menace\", \"Attack of the Clones\" y \"Revenge of the Sith\"\n",
    "rownames(star_wars_matrix2) <- c(\"The Phantom Menace\", \"Attack of the Clones\", \"Revenge of the Sith\")"
   ]
  },
  {
   "cell_type": "code",
   "execution_count": 36,
   "metadata": {},
   "outputs": [],
   "source": [
    "# Une en una nueva matriz la recaudación de todas las películas, las tres primeras filas corresponderán\n",
    "# a las tres primeras películas y las tres siguientes a las últimas películas\n",
    "all_wars_matrix <- rbind(star_wars_matrix, star_wars_matrix2)"
   ]
  },
  {
   "cell_type": "code",
   "execution_count": 37,
   "metadata": {},
   "outputs": [],
   "source": [
    "# Calcula los totales de recaudación de todas las películas en US y fuera de US\n",
    "total_revenue_vector <- colSums(all_wars_matrix)"
   ]
  },
  {
   "cell_type": "code",
   "execution_count": 38,
   "metadata": {},
   "outputs": [],
   "source": [
    "# Calcula la media recaudada de las tres primeras películas fuera de US\n",
    "non_us_all <- mean(star_wars_matrix[, 2])"
   ]
  },
  {
   "cell_type": "code",
   "execution_count": 39,
   "metadata": {},
   "outputs": [],
   "source": [
    "# Calcula la media recaudada de las 2 primeras películas fuera de US\n",
    "non_us_some <- mean(star_wars_matrix[1:2, 2])"
   ]
  },
  {
   "cell_type": "code",
   "execution_count": null,
   "metadata": {},
   "outputs": [],
   "source": []
  }
 ],
 "metadata": {
  "kernelspec": {
   "display_name": "R",
   "language": "R",
   "name": "ir"
  },
  "language_info": {
   "codemirror_mode": "r",
   "file_extension": ".r",
   "mimetype": "text/x-r-source",
   "name": "R",
   "pygments_lexer": "r",
   "version": "3.5.1"
  }
 },
 "nbformat": 4,
 "nbformat_minor": 2
}
