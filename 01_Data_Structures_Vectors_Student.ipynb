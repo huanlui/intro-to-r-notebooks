{
 "cells": [
  {
   "cell_type": "markdown",
   "metadata": {},
   "source": [
    "# Estructuras de datos en ![](https://www.r-project.org/Rlogo.png)\n",
    "\n"
   ]
  },
  {
   "cell_type": "markdown",
   "metadata": {},
   "source": [
    "## Vectores (vector)\n",
    "\n",
    "Los vectores son arrays de una única dimensión. Los índices del array van desde 1 hasta la\n",
    "longitud del vector, `length(v)`. Los vectores son también conocidos como vectores atómicos.\n",
    "\n",
    "Todos los elementos del vector son del mismo tipo básico:\n",
    "+ logical\n",
    "+ integer\n",
    "+ double\n",
    "+ character\n",
    "+ complex\n",
    "\n",
    "Tiene un tamaño fijo que es fijado en su creación.\n",
    "\n",
    "La manera más simple de crear un vector es utilizando al función de combinación `c(v1, v2,...)`.\n",
    "\n",
    "Para dar nombre a los elementos de un vector con la función `names(v)`."
   ]
  },
  {
   "cell_type": "markdown",
   "metadata": {},
   "source": [
    "### Creación de vectores"
   ]
  },
  {
   "cell_type": "code",
   "execution_count": null,
   "metadata": {},
   "outputs": [],
   "source": [
    "###################################\n",
    "# Vectores: Creación              #\n",
    "###################################\n",
    "\n",
    "# Creación de vectores de longitud fija\n",
    "v1 <- vector(mode = 'logical', length = 4)\n",
    "v1"
   ]
  },
  {
   "cell_type": "code",
   "execution_count": null,
   "metadata": {},
   "outputs": [],
   "source": [
    "v2 <- vector(mode = 'integer', length = 4)\n",
    "v2"
   ]
  },
  {
   "cell_type": "code",
   "execution_count": null,
   "metadata": {},
   "outputs": [],
   "source": [
    "numeric(4)"
   ]
  },
  {
   "cell_type": "code",
   "execution_count": null,
   "metadata": {},
   "outputs": [],
   "source": [
    "character(4)"
   ]
  },
  {
   "cell_type": "code",
   "execution_count": null,
   "metadata": {},
   "outputs": [],
   "source": [
    "# Usando el operador de secuencia\n",
    "v3 <- 1:5\n",
    "v3"
   ]
  },
  {
   "cell_type": "code",
   "execution_count": null,
   "metadata": {},
   "outputs": [],
   "source": [
    "v4 <- 1.4:5.4\n",
    "v4"
   ]
  },
  {
   "cell_type": "code",
   "execution_count": null,
   "metadata": {},
   "outputs": [],
   "source": [
    "v5 <- seq(from = 0, to = 1, by = 0.1)\n",
    "v5"
   ]
  },
  {
   "cell_type": "code",
   "execution_count": null,
   "metadata": {},
   "outputs": [],
   "source": [
    "# Usando la función de combinación\n",
    "v6 <- c(TRUE, FALSE)\n",
    "v6"
   ]
  },
  {
   "cell_type": "code",
   "execution_count": null,
   "metadata": {},
   "outputs": [],
   "source": [
    "v7 <- c(1.3, 7, 7/20)\n",
    "v7"
   ]
  },
  {
   "cell_type": "code",
   "execution_count": null,
   "metadata": {},
   "outputs": [],
   "source": [
    "v8 <- c('black', 'white')\n",
    "v8"
   ]
  },
  {
   "cell_type": "code",
   "execution_count": null,
   "metadata": {},
   "outputs": [],
   "source": [
    "v9 <- c(v1, v3)\n",
    "v9"
   ]
  },
  {
   "cell_type": "code",
   "execution_count": null,
   "metadata": {},
   "outputs": [],
   "source": [
    "# Creación de vector nombres\n",
    "v10 <- c(a = 1, b = 2, c = 3)\n",
    "v10"
   ]
  },
  {
   "cell_type": "markdown",
   "metadata": {},
   "source": [
    "### Operaciones sobre vectores\n",
    "\n",
    "Cuando se realizan operaciones aritméticas entre dos vectores, R devuelve otro vector con  los resultados de la operación elemento a elemento. También es posible realizar  operaciones booleanas. La mayoría de las funciones y operaciones son “vectorizadas”."
   ]
  },
  {
   "cell_type": "code",
   "execution_count": null,
   "metadata": {},
   "outputs": [],
   "source": [
    "###################################\n",
    "# Vectores: Operaciones           #\n",
    "###################################\n",
    "\n",
    "a_vector <- c(1, 2, 3)\n",
    "b_vector <- c(4, 5, 6)\n",
    "\n",
    "total_vector <- a_vector + b_vector\n",
    "total_vector"
   ]
  },
  {
   "cell_type": "markdown",
   "metadata": {},
   "source": [
    "Si los vectores no tienen el mismo tamaño, R repite el menor de ellos tantas veces como sea necesario."
   ]
  },
  {
   "cell_type": "code",
   "execution_count": null,
   "metadata": {},
   "outputs": [],
   "source": [
    "total_vector <- a_vector + 1\n",
    "total_vector"
   ]
  },
  {
   "cell_type": "markdown",
   "metadata": {},
   "source": [
    "Podemos aplicar funciones a un vector"
   ]
  },
  {
   "cell_type": "code",
   "execution_count": null,
   "metadata": {},
   "outputs": [],
   "source": [
    "sum(total_vector)"
   ]
  },
  {
   "cell_type": "code",
   "execution_count": null,
   "metadata": {},
   "outputs": [],
   "source": [
    "max(total_vector)"
   ]
  },
  {
   "cell_type": "code",
   "execution_count": null,
   "metadata": {},
   "outputs": [],
   "source": [
    "mean(total_vector)"
   ]
  },
  {
   "cell_type": "markdown",
   "metadata": {},
   "source": [
    "### Indexación de vectores "
   ]
  },
  {
   "cell_type": "markdown",
   "metadata": {},
   "source": [
    "Llamamos indexación a la selección de los elementos de un vector. Para hacer dicha\n",
    "selección empleamos los corchetes [ ].\n",
    "\n",
    "Existen varias maneras de hacer selección:\n",
    "+ **Indexar con números positivos**"
   ]
  },
  {
   "cell_type": "code",
   "execution_count": null,
   "metadata": {},
   "outputs": [],
   "source": [
    "###################################\n",
    "# Vectores: Indexación            #\n",
    "###################################\n",
    "\n",
    "v <- 1:100\n",
    "\n",
    "# Indexando con números positivos\n",
    "v[1] # Seleccionamos el primer elemento\n",
    "v[c(1, 1, 4, 5)] # Seleccionamos el primero dos veces, el cuarto y el quinto\n",
    "v[20:30] # Obtenemos los elementos entre el índice 20 y 30\n",
    "v[70:100] <- 0 # Asignamos el valor cero a los elemenos entre los índices 70 y 100\n",
    "v[which(v > 30)] # Seleccionamos los índices de los elementos > 30"
   ]
  },
  {
   "cell_type": "markdown",
   "metadata": {},
   "source": [
    "+ **Indexar con números negativos**"
   ]
  },
  {
   "cell_type": "code",
   "execution_count": null,
   "metadata": {},
   "outputs": [],
   "source": [
    "# Indexando con números negativos\n",
    "v[-1] # Seleccionamos todos menos el primer elemento\n",
    "v[-c(1, 3, 4, 5)] # Seleccionamos todos menos el primero, el tercero, el cuarto y el quinto\n",
    "v[-length(v)] # Todos menos el último"
   ]
  },
  {
   "cell_type": "markdown",
   "metadata": {},
   "source": [
    "+ **Indexar con vectores lógicos o expresiones booleanas**"
   ]
  },
  {
   "cell_type": "code",
   "execution_count": null,
   "metadata": {},
   "outputs": [],
   "source": [
    "# Indexando con vectores lógicos o expresiones booleanas\n",
    "v0 <- v[1:5]\n",
    "v0[c(TRUE, FALSE, TRUE, FALSE, FALSE)] # Seleccionamos el primero y el tercero\n",
    "v[v > 30] # Todos los > 30\n",
    "v[v > 30 & v <= 50] # Todos los > 30 y <= 50\n",
    "v[v == 0] # Todos los 0\n",
    "v[v %in% c(10, 20, 30)] # Seleccionamos los elementos del vector que están en un conjunto dado (10, 20 y 30)"
   ]
  },
  {
   "cell_type": "markdown",
   "metadata": {},
   "source": [
    "+ **Indexar por nombre**"
   ]
  },
  {
   "cell_type": "code",
   "execution_count": null,
   "metadata": {},
   "outputs": [],
   "source": [
    "# Indexando por nombre\n",
    "names(v0) <- c(\"alpha\", \"beta\", \"gamma\", \"delta\", \"omega\")\n",
    "v0[\"alpha\"]\n",
    "\n",
    "v0[\"beta\"] <- 500\n",
    "v0[c(\"delta\", \"omega\")]"
   ]
  },
  {
   "cell_type": "code",
   "execution_count": null,
   "metadata": {},
   "outputs": [],
   "source": [
    "v0[!(names(v0) %in% c(\"alpha\", \"omega\"))]"
   ]
  },
  {
   "attachments": {
    "image.png": {
     "image/png": "[encoded data removed]"
    }
   },
   "cell_type": "markdown",
   "metadata": {},
   "source": [
    "### Información sobre vectores\n",
    "\n",
    "![image.png](attachment:image.png)"
   ]
  },
  {
   "cell_type": "markdown",
   "metadata": {},
   "source": [
    "### Traps sobre vectores\n",
    "\n",
    "+ Coerciones de tipos automáticas"
   ]
  },
  {
   "cell_type": "code",
   "execution_count": null,
   "metadata": {},
   "outputs": [],
   "source": [
    "###################################\n",
    "# Vectores: Traps                 #\n",
    "###################################\n",
    "\n",
    "x <- c(5, 'a') # \n",
    "x\n",
    "x <- 1:3\n",
    "x[3] <- 'a' # \n",
    "x\n",
    "typeof(1:2) == typeof(c(1, 2))"
   ]
  },
  {
   "cell_type": "markdown",
   "metadata": {},
   "source": [
    "+ Operaciones booleanas “vectorizadas” y no “vectorizadas”"
   ]
  },
  {
   "cell_type": "code",
   "execution_count": null,
   "metadata": {},
   "outputs": [],
   "source": [
    "c(T, F, T) && c(T, F, F) # \n",
    "c(T, F, T) & c(T, F, F) # "
   ]
  },
  {
   "cell_type": "markdown",
   "metadata": {},
   "source": [
    "## Ejercicio 2"
   ]
  },
  {
   "cell_type": "code",
   "execution_count": null,
   "metadata": {},
   "outputs": [],
   "source": [
    "###################################\n",
    "# Vectores                        #\n",
    "###################################\n",
    "\n",
    "# Crea dos vectores numéricos que representen las ganancias y pérdidas de la semana.\n",
    "# For poker_vector:\n",
    "#   On Monday you won 140$\n",
    "#   Tuesday you lost 50$\n",
    "#   Wednesday you won 20$\n",
    "#   Thursday you lost 120$\n",
    "#   Friday you won 240$\n",
    "  \n",
    "# For roulette_vector:\n",
    "#   On Monday you lost 24$\n",
    "#   Tuesday you lost 50$\n",
    "#   Wednesday you won 100$\n",
    "#   Thursday you lost 350$\n",
    "#   Friday you won 10$\n",
    "\n",
    "# Vector con las ganancias en el poker de lunes a viernes\n",
    "\n",
    "\n",
    "# Vector con las ganancias en la ruleta de lunes a viernes\n",
    "\n",
    "\n",
    "# Crea un vector con los días de la semana y asignalo como nombre a los elementos de los vectores anteriores\n",
    "days_vector <- \n",
    "\n",
    "\n",
    "\n",
    "\n",
    "poker_vector\n",
    "roulette_vector\n",
    "\n",
    "# Calcula el total de ganancias diario\n",
    "total_daily <- \n",
    "total_daily\n",
    "\n",
    "# Calcula el total de ganancias en el poker\n",
    "total_poker <- \n",
    "total_poker\n",
    "\n",
    "# Calcula el total de ganancias en la ruleta\n",
    "total_roulette <- \n",
    "total_roulette\n",
    "\n",
    "# Calcula el total de la semana\n",
    "total_week <- \n",
    "total_week\n",
    "\n",
    "# Selecciona las ganancias del miércoles en el poker (por índice y por nombre)\n",
    "poker_wednesday <- \n",
    "poker_wednesday <- \n",
    "\n",
    "# Selecciona las ganancias del martes, miércoles y jueves en el poker (por índice y por nombre)\n",
    "poker_midweek <- \n",
    "poker_midweek <- \n",
    "\n",
    "# Selecciona las ganancias desde el martes al viernes en la ruleta\n",
    "roulette_selection_vector <- \n",
    "\n",
    "# Calcula la media de ganancias en el poker el lunes, martes y miércoles\n",
    "average_midweek_gain <- \n",
    "\n",
    "# ¿Qué días de la semana hubo ganancias al poker?\n",
    "selection_vector <- \n",
    "\n",
    "# Haz la selección anterior sobre el vector con los datos del poker (prueba a introducir directamente la expresión para indexar)\n",
    "poker_winning_days <- \n",
    "poker_winning_days <- \n",
    "\n",
    "# Repite lo mismo sobre el vector con los datos de la ruleta\n",
    "roulette_winning_days <- "
   ]
  },
  {
   "cell_type": "code",
   "execution_count": null,
   "metadata": {},
   "outputs": [],
   "source": []
  },
  {
   "cell_type": "code",
   "execution_count": null,
   "metadata": {},
   "outputs": [],
   "source": []
  },
  {
   "cell_type": "code",
   "execution_count": null,
   "metadata": {},
   "outputs": [],
   "source": []
  },
  {
   "cell_type": "code",
   "execution_count": null,
   "metadata": {},
   "outputs": [],
   "source": []
  }
 ],
 "metadata": {
  "kernelspec": {
   "display_name": "R",
   "language": "R",
   "name": "ir"
  },
  "language_info": {
   "codemirror_mode": "r",
   "file_extension": ".r",
   "mimetype": "text/x-r-source",
   "name": "R",
   "pygments_lexer": "r",
   "version": "3.5.1"
  }
 },
 "nbformat": 4,
 "nbformat_minor": 2
}
